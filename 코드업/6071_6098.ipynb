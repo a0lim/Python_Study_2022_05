{
 "cells": [
  {
   "cell_type": "markdown",
   "id": "90fc92d6",
   "metadata": {},
   "source": [
    "[6071] 0 입력될 때까지 무한 출력하기"
   ]
  },
  {
   "cell_type": "code",
   "execution_count": 1,
   "id": "764f50ec",
   "metadata": {},
   "outputs": [
    {
     "name": "stdout",
     "output_type": "stream",
     "text": [
      "2\n",
      "2\n",
      "0\n"
     ]
    }
   ],
   "source": [
    "n = 1\n",
    "while n != 0:\n",
    "    n = int(input())\n",
    "    if n != 0:\n",
    "        print(n)"
   ]
  },
  {
   "cell_type": "markdown",
   "id": "ab33084a",
   "metadata": {},
   "source": [
    "[6072] 정수 1개 입력받아 카운트다운 출력하기1"
   ]
  },
  {
   "cell_type": "code",
   "execution_count": 4,
   "id": "e6e49c5e",
   "metadata": {},
   "outputs": [
    {
     "name": "stdout",
     "output_type": "stream",
     "text": [
      "5\n",
      "5\n",
      "4\n",
      "3\n",
      "2\n",
      "1\n"
     ]
    }
   ],
   "source": [
    "n = int(input())\n",
    "while n!=0:\n",
    "    print(n)\n",
    "    n = n-1"
   ]
  },
  {
   "cell_type": "markdown",
   "id": "d7f4213f",
   "metadata": {},
   "source": [
    "[6073] 정수 1개 입력받아 카운트다운 출력하기2"
   ]
  },
  {
   "cell_type": "code",
   "execution_count": 5,
   "id": "87ee5bc5",
   "metadata": {},
   "outputs": [
    {
     "name": "stdout",
     "output_type": "stream",
     "text": [
      "5\n",
      "4\n",
      "3\n",
      "2\n",
      "1\n",
      "0\n"
     ]
    }
   ],
   "source": [
    "n = int(input())\n",
    "while n!=0:\n",
    "    print(n-1)\n",
    "    n = n-1"
   ]
  },
  {
   "cell_type": "markdown",
   "id": "00a57eaa",
   "metadata": {},
   "source": [
    "[6074] 문자 1개 입력받아 알파벳 출력하기"
   ]
  },
  {
   "cell_type": "code",
   "execution_count": 6,
   "id": "20d12160",
   "metadata": {},
   "outputs": [
    {
     "name": "stdout",
     "output_type": "stream",
     "text": [
      "g\n",
      "a b c d e f g "
     ]
    }
   ],
   "source": [
    "c = ord(input())\n",
    "t = ord('a')\n",
    "while t <= c :\n",
    "  print(chr(t), end=' ')\n",
    "  t += 1"
   ]
  },
  {
   "cell_type": "markdown",
   "id": "d2046c76",
   "metadata": {},
   "source": [
    "[6075] 정수 1개 입력받아 그 수까지 출력하기1"
   ]
  },
  {
   "cell_type": "code",
   "execution_count": 7,
   "id": "18f9e81b",
   "metadata": {},
   "outputs": [
    {
     "name": "stdout",
     "output_type": "stream",
     "text": [
      "6\n",
      "0\n",
      "1\n",
      "2\n",
      "3\n",
      "4\n",
      "5\n",
      "6\n"
     ]
    }
   ],
   "source": [
    "a = int(input())\n",
    "b = 0\n",
    "\n",
    "while a >= b:\n",
    "    print(b)\n",
    "    b += 1"
   ]
  },
  {
   "cell_type": "markdown",
   "id": "4747e1cf",
   "metadata": {},
   "source": [
    "[6076] 정수 1개 입력받아 그 수까지 출력하기2"
   ]
  },
  {
   "cell_type": "code",
   "execution_count": 9,
   "id": "1a92b1ef",
   "metadata": {},
   "outputs": [
    {
     "name": "stdout",
     "output_type": "stream",
     "text": [
      "5\n",
      "0\n",
      "1\n",
      "2\n",
      "3\n",
      "4\n",
      "5\n"
     ]
    }
   ],
   "source": [
    "a = int(input())\n",
    "\n",
    "for i in range(a+1):\n",
    "    print(i)"
   ]
  },
  {
   "cell_type": "markdown",
   "id": "23693d7d",
   "metadata": {},
   "source": [
    "[6077] 짝수 합 구하기"
   ]
  },
  {
   "cell_type": "code",
   "execution_count": 14,
   "id": "acbf8e4c",
   "metadata": {},
   "outputs": [
    {
     "name": "stdout",
     "output_type": "stream",
     "text": [
      "6\n",
      "12\n"
     ]
    }
   ],
   "source": [
    "a = int(input())\n",
    "b = 0\n",
    "\n",
    "for i in range(1, a+1):\n",
    "    if i%2 == 0:\n",
    "        b+=i\n",
    "\n",
    "print(b)"
   ]
  },
  {
   "cell_type": "markdown",
   "id": "ed57c956",
   "metadata": {},
   "source": [
    "[6078] 원하는 문자가 입력될 때까지 반복 출력하기"
   ]
  },
  {
   "cell_type": "code",
   "execution_count": 23,
   "id": "d664e07d",
   "metadata": {},
   "outputs": [
    {
     "name": "stdout",
     "output_type": "stream",
     "text": [
      "a\n",
      "a\n",
      "d\n",
      "d\n",
      "q\n",
      "q\n"
     ]
    }
   ],
   "source": [
    "while True:\n",
    "    n = input()\n",
    "    print(n)\n",
    "    if n == 'q':\n",
    "        break"
   ]
  },
  {
   "cell_type": "markdown",
   "id": "b3cc1e4a",
   "metadata": {},
   "source": [
    "[6079] 언제까지 더해야 할까?"
   ]
  },
  {
   "cell_type": "code",
   "execution_count": 32,
   "id": "af25a696",
   "metadata": {},
   "outputs": [
    {
     "name": "stdout",
     "output_type": "stream",
     "text": [
      "55\n",
      "10\n"
     ]
    }
   ],
   "source": [
    "n = int(input())\n",
    "\n",
    "a = 0\n",
    "b = 0\n",
    "while b < n:\n",
    "    a += 1\n",
    "    b += a\n",
    "\n",
    "print(a)"
   ]
  },
  {
   "cell_type": "markdown",
   "id": "e30ab286",
   "metadata": {},
   "source": [
    "[6080] 주사위 2개 던지기"
   ]
  },
  {
   "cell_type": "code",
   "execution_count": 35,
   "id": "19394a41",
   "metadata": {},
   "outputs": [
    {
     "name": "stdout",
     "output_type": "stream",
     "text": [
      "5 2\n",
      "1 1\n",
      "1 2\n",
      "2 1\n",
      "2 2\n",
      "3 1\n",
      "3 2\n",
      "4 1\n",
      "4 2\n",
      "5 1\n",
      "5 2\n"
     ]
    }
   ],
   "source": [
    "a, b = input().split()\n",
    "a = int(a)\n",
    "b = int(b)\n",
    "\n",
    "for i in range(1, a+1):\n",
    "    for j in range(1, b+1):\n",
    "        print(i, j)\n"
   ]
  },
  {
   "cell_type": "markdown",
   "id": "981d2a34",
   "metadata": {},
   "source": [
    "[6081] 16진수 구구단 출력하기"
   ]
  },
  {
   "cell_type": "code",
   "execution_count": 37,
   "id": "c384888d",
   "metadata": {},
   "outputs": [
    {
     "name": "stdout",
     "output_type": "stream",
     "text": [
      "4\n",
      "4*1=4\n",
      "4*2=8\n",
      "4*3=C\n",
      "4*4=10\n",
      "4*5=14\n",
      "4*6=18\n",
      "4*7=1C\n",
      "4*8=20\n",
      "4*9=24\n",
      "4*A=28\n",
      "4*B=2C\n",
      "4*C=30\n",
      "4*D=34\n",
      "4*E=38\n",
      "4*F=3C\n"
     ]
    }
   ],
   "source": [
    "n = int(input(), 16)\n",
    "\n",
    "for i in range(1, 16):\n",
    "    print(\"%X*%X=%X\" %(n, i, n*i))\n",
    "    "
   ]
  },
  {
   "cell_type": "markdown",
   "id": "c00521a9",
   "metadata": {},
   "source": [
    "[6082] 3 6 9 게임의 왕이 되자"
   ]
  },
  {
   "cell_type": "code",
   "execution_count": 39,
   "id": "e416bd59",
   "metadata": {},
   "outputs": [
    {
     "name": "stdout",
     "output_type": "stream",
     "text": [
      "9\n",
      "1 2 X 4 5 X 7 8 X "
     ]
    }
   ],
   "source": [
    "n = int(input())\n",
    "\n",
    "for i in range(1, n+1):\n",
    "    if ( i%10 == 3 or i%10 == 6 or i%10 == 9):\n",
    "        print(\"X\", end=' ')\n",
    "        \n",
    "    else:\n",
    "        print(i, end=' ')"
   ]
  },
  {
   "cell_type": "markdown",
   "id": "c898a7b6",
   "metadata": {},
   "source": [
    "[6083] 빛 섞어 색 만들기"
   ]
  },
  {
   "cell_type": "code",
   "execution_count": 42,
   "id": "3944b8db",
   "metadata": {},
   "outputs": [
    {
     "name": "stdout",
     "output_type": "stream",
     "text": [
      "2 2 2\n",
      "0 0 0\n",
      "0 0 1\n",
      "0 1 0\n",
      "0 1 1\n",
      "1 0 0\n",
      "1 0 1\n",
      "1 1 0\n",
      "1 1 1\n",
      "8\n"
     ]
    }
   ],
   "source": [
    "r, g, b = input().split()\n",
    "r = int(r)\n",
    "g = int(g)\n",
    "b = int(b)\n",
    "\n",
    "for i in range(r):\n",
    "    for j in range(g):\n",
    "        for k in range(b):\n",
    "            print(i, j, k)\n",
    "\n",
    "print(r*g*b)"
   ]
  },
  {
   "cell_type": "markdown",
   "id": "8426ae00",
   "metadata": {},
   "source": [
    "[6084] 소리 파일 저장용량 계산하기"
   ]
  },
  {
   "cell_type": "code",
   "execution_count": 45,
   "id": "0f2bce5c",
   "metadata": {},
   "outputs": [
    {
     "name": "stdout",
     "output_type": "stream",
     "text": [
      "44100 16 2 10\n",
      "1.7 MB\n"
     ]
    }
   ],
   "source": [
    "h, b, c, s = input().split()\n",
    "\n",
    "h = int(h)\n",
    "b = int(b)\n",
    "c = int(c)\n",
    "s = int(s)\n",
    "\n",
    "print( round(h*b*c*s/8/1024/1024, 1), \"MB\")"
   ]
  },
  {
   "cell_type": "markdown",
   "id": "d18974bd",
   "metadata": {},
   "source": [
    "[6085] 그림 파일 저장용량 계산하기"
   ]
  },
  {
   "cell_type": "code",
   "execution_count": 46,
   "id": "ceb6c060",
   "metadata": {},
   "outputs": [
    {
     "name": "stdout",
     "output_type": "stream",
     "text": [
      "1024 768 24\n",
      "2.25 MB\n"
     ]
    }
   ],
   "source": [
    "w, h, b = input().split()\n",
    "w = int(w)\n",
    "h = int(h)\n",
    "b = int(b)\n",
    "\n",
    "s=w*h*b/1024/1024/8\n",
    "\n",
    "print('%.2f'%s,\"MB\")"
   ]
  },
  {
   "cell_type": "markdown",
   "id": "d21779fc",
   "metadata": {},
   "source": [
    "[6086] 거기까지! 이제 그만~"
   ]
  },
  {
   "cell_type": "code",
   "execution_count": 47,
   "id": "77fb9f22",
   "metadata": {},
   "outputs": [
    {
     "name": "stdout",
     "output_type": "stream",
     "text": [
      "57\n",
      "66\n"
     ]
    }
   ],
   "source": [
    "n = int(input())\n",
    "\n",
    "a = 0\n",
    "b = 0\n",
    "while b < n:\n",
    "    a += 1\n",
    "    b += a\n",
    "\n",
    "print(b)"
   ]
  },
  {
   "cell_type": "markdown",
   "id": "e1f899b5",
   "metadata": {},
   "source": [
    "[6087] 3의 배수는 통과"
   ]
  },
  {
   "cell_type": "code",
   "execution_count": 53,
   "id": "cfc42a59",
   "metadata": {},
   "outputs": [
    {
     "name": "stdout",
     "output_type": "stream",
     "text": [
      "10\n",
      "1 2 4 5 7 8 "
     ]
    }
   ],
   "source": [
    "n = int(input())\n",
    "\n",
    "for i in range(1, n):\n",
    "    if i % 3 == 0:\n",
    "        continue\n",
    "    else:\n",
    "        print(i, end=' ')"
   ]
  },
  {
   "cell_type": "markdown",
   "id": "32821752",
   "metadata": {},
   "source": [
    "[6088] 수 나열하기1"
   ]
  },
  {
   "cell_type": "code",
   "execution_count": 54,
   "id": "fb1fac14",
   "metadata": {},
   "outputs": [
    {
     "name": "stdout",
     "output_type": "stream",
     "text": [
      "1 3 5\n",
      "12\n"
     ]
    }
   ],
   "source": [
    "a, b, n = input().split()\n",
    "a = int(a)\n",
    "b = int(b)\n",
    "n = int(n)\n",
    "\n",
    "print( a + (b*(n-1)))"
   ]
  },
  {
   "cell_type": "markdown",
   "id": "fe5ca732",
   "metadata": {},
   "source": [
    "[6089] 수 나열하기2"
   ]
  },
  {
   "cell_type": "code",
   "execution_count": 56,
   "id": "d0e50fe1",
   "metadata": {},
   "outputs": [
    {
     "name": "stdout",
     "output_type": "stream",
     "text": [
      "2 3 7\n",
      "1458\n"
     ]
    }
   ],
   "source": [
    "a, r, n = input().split()\n",
    "a = int(a)\n",
    "r = int(r)\n",
    "n = int(n)\n",
    "\n",
    "print( a*(r**(n-1)))"
   ]
  },
  {
   "cell_type": "markdown",
   "id": "ca38f321",
   "metadata": {},
   "source": [
    "[6090] 수 나열하기3"
   ]
  },
  {
   "cell_type": "code",
   "execution_count": 59,
   "id": "7ecb8b56",
   "metadata": {},
   "outputs": [
    {
     "name": "stdout",
     "output_type": "stream",
     "text": [
      "1 -2 1 8\n",
      "-85\n"
     ]
    }
   ],
   "source": [
    "a, m, d, n = input().split()\n",
    "a = int(a)\n",
    "m = int(m)\n",
    "d = int(d)\n",
    "n = int(n)\n",
    "\n",
    "for i in range(1, n):\n",
    "    a = a*m+d\n",
    "    \n",
    "print(a)"
   ]
  },
  {
   "cell_type": "markdown",
   "id": "55c36cd2",
   "metadata": {},
   "source": [
    "[6091] 함께 문제 푸는 날"
   ]
  },
  {
   "cell_type": "code",
   "execution_count": 60,
   "id": "30dd771b",
   "metadata": {},
   "outputs": [
    {
     "name": "stdout",
     "output_type": "stream",
     "text": [
      "3 7 9\n",
      "63\n"
     ]
    }
   ],
   "source": [
    "a, b, c = input().split()\n",
    "\n",
    "a = int(a)\n",
    "b = int(b)\n",
    "c = int(c)\n",
    "\n",
    "d = 1\n",
    "\n",
    "while d%a!=0 or d%b!=0 or d%c!=0 :\n",
    "  d += 1\n",
    "\n",
    "print(d)"
   ]
  },
  {
   "cell_type": "markdown",
   "id": "31c6ce3f",
   "metadata": {},
   "source": [
    "[6092] 이상한 출석 번호 부르기1"
   ]
  },
  {
   "cell_type": "code",
   "execution_count": 65,
   "id": "c938a343",
   "metadata": {},
   "outputs": [
    {
     "name": "stdout",
     "output_type": "stream",
     "text": [
      "10\n",
      "1 3 2 2 5 6 7 4 5 9\n",
      "1 2 1 1 2 1 1 0 1 0 0 0 0 0 0 0 0 0 0 0 0 0 0 "
     ]
    }
   ],
   "source": [
    "d = list()\n",
    "\n",
    "for i in range(24):\n",
    "    d.append(0)\n",
    "    \n",
    "n = int(input())\n",
    "l = input().split()\n",
    "\n",
    "for i in range(n):\n",
    "    d[int(l[i])] += 1\n",
    "    \n",
    "for i in range(1, len(d)):\n",
    "    print(d[i], end=' ')"
   ]
  },
  {
   "cell_type": "markdown",
   "id": "dee53c8d",
   "metadata": {},
   "source": [
    "[6093] 이상한 출석 번호 부르기2"
   ]
  },
  {
   "cell_type": "code",
   "execution_count": 68,
   "id": "85f7d5c9",
   "metadata": {},
   "outputs": [
    {
     "name": "stdout",
     "output_type": "stream",
     "text": [
      "10\n",
      "10 4 2 3 6 6 7 9 8 5\n",
      "5 8 9 7 6 6 3 2 4 10 "
     ]
    }
   ],
   "source": [
    "n = int(input())\n",
    "l = input().split()\n",
    "\n",
    "for i in range(n-1, -1, -1):\n",
    "    print(l[i], end=' ')"
   ]
  },
  {
   "cell_type": "markdown",
   "id": "2018ba65",
   "metadata": {},
   "source": [
    "[6094] 이상한 출석 번호 부르기3"
   ]
  },
  {
   "cell_type": "code",
   "execution_count": 70,
   "id": "7ac0388d",
   "metadata": {},
   "outputs": [
    {
     "name": "stdout",
     "output_type": "stream",
     "text": [
      "10\n",
      "10 4 2 3 6 6 7 9 8 5\n",
      "2\n"
     ]
    }
   ],
   "source": [
    "n = int(input())\n",
    "l = input().split()\n",
    "\n",
    "for i in range(n):\n",
    "    l[i] = int(l[i])\n",
    "\n",
    "print(min(l))"
   ]
  },
  {
   "cell_type": "markdown",
   "id": "2c3e9542",
   "metadata": {},
   "source": [
    "[6095] 바둑판에 흰 돌 놓기"
   ]
  },
  {
   "cell_type": "code",
   "execution_count": 76,
   "id": "d8ba99cc",
   "metadata": {},
   "outputs": [
    {
     "name": "stdout",
     "output_type": "stream",
     "text": [
      "5\n",
      "1 1\n",
      "2 2\n",
      "3 3\n",
      "4 4\n",
      "2 5\n",
      "1 0 0 0 0 0 0 0 0 0 0 0 0 0 0 0 0 0 0 \n",
      "0 1 0 0 1 0 0 0 0 0 0 0 0 0 0 0 0 0 0 \n",
      "0 0 1 0 0 0 0 0 0 0 0 0 0 0 0 0 0 0 0 \n",
      "0 0 0 1 0 0 0 0 0 0 0 0 0 0 0 0 0 0 0 \n",
      "0 0 0 0 0 0 0 0 0 0 0 0 0 0 0 0 0 0 0 \n",
      "0 0 0 0 0 0 0 0 0 0 0 0 0 0 0 0 0 0 0 \n",
      "0 0 0 0 0 0 0 0 0 0 0 0 0 0 0 0 0 0 0 \n",
      "0 0 0 0 0 0 0 0 0 0 0 0 0 0 0 0 0 0 0 \n",
      "0 0 0 0 0 0 0 0 0 0 0 0 0 0 0 0 0 0 0 \n",
      "0 0 0 0 0 0 0 0 0 0 0 0 0 0 0 0 0 0 0 \n",
      "0 0 0 0 0 0 0 0 0 0 0 0 0 0 0 0 0 0 0 \n",
      "0 0 0 0 0 0 0 0 0 0 0 0 0 0 0 0 0 0 0 \n",
      "0 0 0 0 0 0 0 0 0 0 0 0 0 0 0 0 0 0 0 \n",
      "0 0 0 0 0 0 0 0 0 0 0 0 0 0 0 0 0 0 0 \n",
      "0 0 0 0 0 0 0 0 0 0 0 0 0 0 0 0 0 0 0 \n",
      "0 0 0 0 0 0 0 0 0 0 0 0 0 0 0 0 0 0 0 \n",
      "0 0 0 0 0 0 0 0 0 0 0 0 0 0 0 0 0 0 0 \n",
      "0 0 0 0 0 0 0 0 0 0 0 0 0 0 0 0 0 0 0 \n",
      "0 0 0 0 0 0 0 0 0 0 0 0 0 0 0 0 0 0 0 \n"
     ]
    }
   ],
   "source": [
    "d = []\n",
    "\n",
    "for i in range(20):\n",
    "    d.append([])\n",
    "    \n",
    "    for j in range(20):\n",
    "        d[i].append(0)\n",
    "        \n",
    "n = int(input())\n",
    "\n",
    "for i in range(n):\n",
    "    x, y = input().split()\n",
    "    d[int(x)][int(y)] = 1\n",
    "    \n",
    "for i in range(1, 20):\n",
    "    for j in range(1, 20):\n",
    "        print(d[i][j], end=\" \")\n",
    "        \n",
    "    print()"
   ]
  },
  {
   "cell_type": "markdown",
   "id": "1fdae5b0",
   "metadata": {},
   "source": [
    "[6096] 바둑알 십자 뒤집기"
   ]
  },
  {
   "cell_type": "code",
   "execution_count": null,
   "id": "9799bdce",
   "metadata": {},
   "outputs": [],
   "source": [
    "d = []\n",
    "\n",
    "for i in range(19):\n",
    "    d.append([])\n",
    "    for j in range(19):\n",
    "        d[i].append(0)\n",
    "\n",
    "for i in range(19):\n",
    "    d[i] = list(map(int, input().split()))\n",
    "\n",
    "n = int(input())\n",
    "\n",
    "for i in range(n):\n",
    "    x, y = input().split()\n",
    "    x = int(x)\n",
    "    y = int(y)\n",
    "    \n",
    "    for j in range(1, 20):\n",
    "        if d[j][y] == 0:\n",
    "            d[j][y] = 1\n",
    "        else:\n",
    "            d[j][y] == 0\n",
    "            \n",
    "        if d[x][j] == 0:\n",
    "            d[x][j] = 1\n",
    "        else :\n",
    "            d[x][j] = 0\n",
    "\n",
    "for i in range(1, 20) :\n",
    "    for j in range(1, 20) :\n",
    "        print(d[i][j], end = ' ')\n",
    "print()"
   ]
  },
  {
   "cell_type": "markdown",
   "id": "c0a67434",
   "metadata": {},
   "source": [
    "[6097] 설탕과자 뽑기"
   ]
  },
  {
   "cell_type": "code",
   "execution_count": 96,
   "id": "4da7be2d",
   "metadata": {},
   "outputs": [
    {
     "name": "stdout",
     "output_type": "stream",
     "text": [
      "5 5\n",
      "3\n",
      "2 0 1 1\n",
      "3 1 2 3\n",
      "4 1 2 5\n",
      "0 0 0 0 0 \n",
      "0 1 1 0 0 \n",
      "0 0 0 1 0 \n",
      "0 0 0 1 0 \n",
      "0 0 0 1 0 \n"
     ]
    }
   ],
   "source": [
    "h,w = input().split()\n",
    "h = int(h)\n",
    "w = int(w)\n",
    "\n",
    "m = []\n",
    "for i in range(h+1) :\n",
    "    m.append([])\n",
    "    for j in range(w+1) :\n",
    "        m[i].append(0)\n",
    "\n",
    "n = int(input())\n",
    "for i in range(n) :\n",
    "    l,d,x,y = input().split()\n",
    "    if int(d)==0 :\n",
    "        for j in range(int(l)) :\n",
    "            m[int(x)][int(y)+j] = 1\n",
    "    else :\n",
    "        for j in range(int(l)) :\n",
    "            m[int(x)+j][int(y)] = 1\n",
    "\n",
    "for i in range(h):\n",
    "    for j in range(w):\n",
    "        print(m[i][j], end=' ')\n",
    "    print(end='\\n')"
   ]
  },
  {
   "cell_type": "markdown",
   "id": "2f3b1d4e",
   "metadata": {},
   "source": [
    "[6098] 성실한 개미"
   ]
  },
  {
   "cell_type": "code",
   "execution_count": 99,
   "id": "293222d6",
   "metadata": {},
   "outputs": [
    {
     "name": "stdout",
     "output_type": "stream",
     "text": [
      "1 1 1 1 1 1 1 1 1 1\n",
      "1 0 0 1 0 0 0 0 0 1\n",
      "1 0 0 1 1 1 0 0 0 1\n",
      "1 0 0 0 0 0 0 1 0 1\n",
      "1 0 0 0 0 0 0 1 0 1\n",
      "1 0 0 0 0 1 0 1 0 1\n",
      "1 0 0 0 0 1 2 1 0 1\n",
      "1 0 0 0 0 1 0 0 0 1\n",
      "1 0 0 0 0 0 0 0 0 1\n",
      "1 1 1 1 1 1 1 1 1 1\n",
      "0 0 0 0 0 0 0 0 0 0 \n",
      "0 1 1 1 1 1 1 1 1 1 \n",
      "0 1 0 0 1 0 0 0 0 0 \n",
      "0 1 0 0 1 1 1 0 0 0 \n",
      "0 1 0 0 0 0 0 0 1 0 \n",
      "0 1 0 0 0 0 0 0 1 0 \n",
      "0 1 0 0 0 0 1 0 1 0 \n",
      "0 1 0 0 0 0 1 2 1 0 \n",
      "0 1 0 0 0 0 1 0 0 0 \n",
      "0 1 0 0 0 0 0 0 0 0 \n"
     ]
    }
   ],
   "source": [
    "m = []\n",
    "for i in range(12):\n",
    "    m.append([])\n",
    "    for j in range(12):\n",
    "        m[i].append(0)\n",
    "\n",
    "for i in range(10):\n",
    "    a = input().split()\n",
    "    for j in range(10):\n",
    "        m[i+1][j+1] = int(a[j])\n",
    "\n",
    "x, y = 1, 1\n",
    "\n",
    "while True:\n",
    "    if (m[x][y] == 0):\n",
    "        m[x][y] = 9\n",
    "    elif (m[x][y] == 2):\n",
    "        m[x][y] = 9\n",
    "        break\n",
    "\n",
    "    if ((m[x][y+1] == 1 and m[x+1][y] == 1)):\n",
    "        break\n",
    "\n",
    "    if (m[x][y+1] != 1):\n",
    "        y = y + 1\n",
    "    elif (m[x+1][y] != 1):\n",
    "        x = x + 1\n",
    "\n",
    "for i in range(10):\n",
    "    for j in range(10):\n",
    "        print(m[i][j], end=' ')\n",
    "    print()"
   ]
  },
  {
   "cell_type": "code",
   "execution_count": null,
   "id": "6f395dbb",
   "metadata": {},
   "outputs": [],
   "source": []
  }
 ],
 "metadata": {
  "kernelspec": {
   "display_name": "Python 3 (ipykernel)",
   "language": "python",
   "name": "python3"
  },
  "language_info": {
   "codemirror_mode": {
    "name": "ipython",
    "version": 3
   },
   "file_extension": ".py",
   "mimetype": "text/x-python",
   "name": "python",
   "nbconvert_exporter": "python",
   "pygments_lexer": "ipython3",
   "version": "3.9.7"
  }
 },
 "nbformat": 4,
 "nbformat_minor": 5
}
