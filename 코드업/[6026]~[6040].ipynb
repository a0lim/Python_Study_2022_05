{
 "cells": [
  {
   "cell_type": "markdown",
   "id": "0168de91",
   "metadata": {},
   "source": [
    " [6026] 실수 2개 입력받아 합 계산하기"
   ]
  },
  {
   "cell_type": "code",
   "execution_count": 3,
   "id": "129f0b84",
   "metadata": {},
   "outputs": [
    {
     "name": "stdout",
     "output_type": "stream",
     "text": [
      "0.1\n",
      "0.9\n",
      "1.0\n"
     ]
    }
   ],
   "source": [
    "a = float(input())\n",
    "b = float(input())\n",
    "print(a+b)"
   ]
  },
  {
   "cell_type": "markdown",
   "id": "767579ce",
   "metadata": {},
   "source": [
    "[6027] 10진 정수 입력받아 16진수로 출력하기1"
   ]
  },
  {
   "cell_type": "code",
   "execution_count": 4,
   "id": "0cd63751",
   "metadata": {},
   "outputs": [
    {
     "name": "stdout",
     "output_type": "stream",
     "text": [
      "255\n",
      "ff\n"
     ]
    }
   ],
   "source": [
    "a = input()\n",
    "n = int(a)            \n",
    "print('%x'% n)"
   ]
  },
  {
   "cell_type": "markdown",
   "id": "58d8f44d",
   "metadata": {},
   "source": [
    "[6028] 10진 정수 입력받아 16진수로 출력하기2"
   ]
  },
  {
   "cell_type": "code",
   "execution_count": 5,
   "id": "d5b13688",
   "metadata": {},
   "outputs": [
    {
     "name": "stdout",
     "output_type": "stream",
     "text": [
      "255\n",
      "FF\n"
     ]
    }
   ],
   "source": [
    "a = input()\n",
    "n = int(a)            \n",
    "print('%x'.upper()% n)"
   ]
  },
  {
   "cell_type": "markdown",
   "id": "d99b3096",
   "metadata": {},
   "source": [
    "[6029] 16진 정수 입력받아 8진수로 출력하기"
   ]
  },
  {
   "cell_type": "code",
   "execution_count": 6,
   "id": "e456e8ba",
   "metadata": {},
   "outputs": [
    {
     "name": "stdout",
     "output_type": "stream",
     "text": [
      "f\n",
      "17\n"
     ]
    }
   ],
   "source": [
    "a = input()\n",
    "n = int(a, 16)            \n",
    "print('%o' % n)"
   ]
  },
  {
   "cell_type": "markdown",
   "id": "a913ee69",
   "metadata": {},
   "source": [
    "[6030] 영문자 1개 입력받아 10진수로 변환하기"
   ]
  },
  {
   "cell_type": "code",
   "execution_count": 8,
   "id": "c9a7d40d",
   "metadata": {},
   "outputs": [
    {
     "name": "stdout",
     "output_type": "stream",
     "text": [
      "A\n",
      "65\n"
     ]
    }
   ],
   "source": [
    "a = ord(input())\n",
    "print(a)"
   ]
  },
  {
   "cell_type": "markdown",
   "id": "8d1e8469",
   "metadata": {},
   "source": [
    "[6031] 정수 입력받아 유니코드 문자로 변환하기"
   ]
  },
  {
   "cell_type": "code",
   "execution_count": 9,
   "id": "7f5c789a",
   "metadata": {},
   "outputs": [
    {
     "name": "stdout",
     "output_type": "stream",
     "text": [
      "65\n",
      "A\n"
     ]
    }
   ],
   "source": [
    "a = int(input())\n",
    "print(chr(a))"
   ]
  },
  {
   "cell_type": "markdown",
   "id": "adcc88f8",
   "metadata": {},
   "source": [
    "[6032] 정수 1개 입력받아 부호 바꾸기"
   ]
  },
  {
   "cell_type": "code",
   "execution_count": 11,
   "id": "48413595",
   "metadata": {},
   "outputs": [
    {
     "name": "stdout",
     "output_type": "stream",
     "text": [
      "-1\n",
      "1\n"
     ]
    }
   ],
   "source": [
    "a = int(input())\n",
    "print(-a)"
   ]
  },
  {
   "cell_type": "markdown",
   "id": "06488a2b",
   "metadata": {},
   "source": [
    "[6033] 문자 1개 입력받아 다음 문자 출력하기"
   ]
  },
  {
   "cell_type": "code",
   "execution_count": 19,
   "id": "da8ed662",
   "metadata": {},
   "outputs": [
    {
     "name": "stdout",
     "output_type": "stream",
     "text": [
      "a\n",
      "b\n"
     ]
    }
   ],
   "source": [
    "a = ord(input())\n",
    "print(chr(a+1))"
   ]
  },
  {
   "cell_type": "markdown",
   "id": "3c37174b",
   "metadata": {},
   "source": [
    "[6034] 정수 2개 입력받아 차 계산하기"
   ]
  },
  {
   "cell_type": "code",
   "execution_count": 28,
   "id": "0edac0a6",
   "metadata": {},
   "outputs": [
    {
     "name": "stdout",
     "output_type": "stream",
     "text": [
      "123 -123\n",
      "246\n"
     ]
    }
   ],
   "source": [
    "a, b = input().split()\n",
    "\n",
    "print(int(a) - int(b))"
   ]
  },
  {
   "cell_type": "markdown",
   "id": "a3b31473",
   "metadata": {},
   "source": [
    "[6035] 실수 2개 입력받아 곱 계산하기"
   ]
  },
  {
   "cell_type": "code",
   "execution_count": 30,
   "id": "44741cbc",
   "metadata": {},
   "outputs": [
    {
     "name": "stdout",
     "output_type": "stream",
     "text": [
      "0.5 0.2\n",
      "0.1\n"
     ]
    }
   ],
   "source": [
    "a, b = input().split()\n",
    "\n",
    "print(float(a) * float(b))"
   ]
  },
  {
   "cell_type": "markdown",
   "id": "e4105b03",
   "metadata": {},
   "source": [
    "[6036] 단어 여러 번 출력하기"
   ]
  },
  {
   "cell_type": "code",
   "execution_count": 31,
   "id": "e53ce326",
   "metadata": {},
   "outputs": [
    {
     "name": "stdout",
     "output_type": "stream",
     "text": [
      "love 3\n",
      "lovelovelove\n"
     ]
    }
   ],
   "source": [
    "a, b = input().split()\n",
    "\n",
    "print(a*int(b))"
   ]
  },
  {
   "cell_type": "markdown",
   "id": "3a54f85c",
   "metadata": {},
   "source": [
    "[6037] 문장 여러 번 출력하기"
   ]
  },
  {
   "cell_type": "code",
   "execution_count": 32,
   "id": "d9e8dabd",
   "metadata": {},
   "outputs": [
    {
     "name": "stdout",
     "output_type": "stream",
     "text": [
      "3\n",
      "I love CS\n",
      "I love CSI love CSI love CS\n"
     ]
    }
   ],
   "source": [
    "a = input()\n",
    "b = input()\n",
    "print(int(a) * b)"
   ]
  },
  {
   "cell_type": "markdown",
   "id": "81c7481e",
   "metadata": {},
   "source": [
    "[6038] 정수 2개 입력받아 거듭제곱 계산하기"
   ]
  },
  {
   "cell_type": "code",
   "execution_count": 33,
   "id": "55434218",
   "metadata": {},
   "outputs": [
    {
     "name": "stdout",
     "output_type": "stream",
     "text": [
      "2 10\n",
      "1024\n"
     ]
    }
   ],
   "source": [
    "a, b = input().split()\n",
    "print(int(a)**int(b))"
   ]
  },
  {
   "cell_type": "markdown",
   "id": "4f348c88",
   "metadata": {},
   "source": [
    "[6039] 실수 2개 입력받아 거듭제곱 계산하기"
   ]
  },
  {
   "cell_type": "code",
   "execution_count": 34,
   "id": "79b212c9",
   "metadata": {},
   "outputs": [
    {
     "name": "stdout",
     "output_type": "stream",
     "text": [
      "4.0 2.0\n",
      "16.0\n"
     ]
    }
   ],
   "source": [
    "a, b = input().split()\n",
    "print(float(a)**float(b))"
   ]
  },
  {
   "cell_type": "markdown",
   "id": "b624c412",
   "metadata": {},
   "source": [
    "[6040] 정수 2개 입력받아 나눈 몫 계산하기"
   ]
  },
  {
   "cell_type": "code",
   "execution_count": 35,
   "id": "e3cd6994",
   "metadata": {},
   "outputs": [
    {
     "name": "stdout",
     "output_type": "stream",
     "text": [
      "10 3\n",
      "3\n"
     ]
    }
   ],
   "source": [
    "a, b = input().split()\n",
    "print(int(a)//int(b))"
   ]
  }
 ],
 "metadata": {
  "kernelspec": {
   "display_name": "Python 3 (ipykernel)",
   "language": "python",
   "name": "python3"
  },
  "language_info": {
   "codemirror_mode": {
    "name": "ipython",
    "version": 3
   },
   "file_extension": ".py",
   "mimetype": "text/x-python",
   "name": "python",
   "nbconvert_exporter": "python",
   "pygments_lexer": "ipython3",
   "version": "3.9.11"
  }
 },
 "nbformat": 4,
 "nbformat_minor": 5
}
