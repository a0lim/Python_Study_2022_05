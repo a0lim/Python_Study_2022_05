{
 "cells": [
  {
   "cell_type": "markdown",
   "id": "73832124",
   "metadata": {},
   "source": [
    "[6041] 정수 2개 입력받아 나눈 나머지 계산하기"
   ]
  },
  {
   "cell_type": "code",
   "execution_count": 1,
   "id": "7c0f0d90",
   "metadata": {},
   "outputs": [
    {
     "name": "stdout",
     "output_type": "stream",
     "text": [
      "10 2\n"
     ]
    }
   ],
   "source": [
    "a, b = input().split()"
   ]
  },
  {
   "cell_type": "code",
   "execution_count": 2,
   "id": "8fcda93f",
   "metadata": {},
   "outputs": [
    {
     "name": "stdout",
     "output_type": "stream",
     "text": [
      "0\n"
     ]
    }
   ],
   "source": [
    "print( int(a) % int(b))"
   ]
  },
  {
   "cell_type": "markdown",
   "id": "c369c044",
   "metadata": {},
   "source": [
    "[6042] 실수 1개 입력받아 소숫점이하 자리 변환하기"
   ]
  },
  {
   "cell_type": "code",
   "execution_count": 3,
   "id": "3c0dc5fb",
   "metadata": {},
   "outputs": [
    {
     "name": "stdout",
     "output_type": "stream",
     "text": [
      "2.2\n"
     ]
    }
   ],
   "source": [
    "a=float(input())"
   ]
  },
  {
   "cell_type": "code",
   "execution_count": 4,
   "id": "a90377e7",
   "metadata": {},
   "outputs": [
    {
     "name": "stdout",
     "output_type": "stream",
     "text": [
      "2.20\n"
     ]
    }
   ],
   "source": [
    "print( format(a, \".2f\") )"
   ]
  },
  {
   "cell_type": "markdown",
   "id": "465be331",
   "metadata": {},
   "source": [
    "[6043] 실수 2개 입력받아 나눈 결과 계산하기"
   ]
  },
  {
   "cell_type": "code",
   "execution_count": 6,
   "id": "fc00867a",
   "metadata": {
    "scrolled": true
   },
   "outputs": [
    {
     "name": "stdout",
     "output_type": "stream",
     "text": [
      "10.0 3.0\n",
      "3.333\n"
     ]
    }
   ],
   "source": [
    "f1, f2 = input().split()\n",
    "print( format( (float(f1)/float(f2)),  \".3f\"))"
   ]
  },
  {
   "cell_type": "markdown",
   "id": "da3c9736",
   "metadata": {},
   "source": [
    "[6044] 정수 2개 입력받아 자동 계산하기"
   ]
  },
  {
   "cell_type": "code",
   "execution_count": 7,
   "id": "00f1e557",
   "metadata": {},
   "outputs": [
    {
     "name": "stdout",
     "output_type": "stream",
     "text": [
      "10 3\n",
      "13\n",
      "7\n",
      "30\n",
      "3\n",
      "1\n",
      "3.33\n"
     ]
    }
   ],
   "source": [
    "a, b = input().split()\n",
    "a = int(a)\n",
    "b = int(b)\n",
    "print(a+b)\n",
    "print(a-b)\n",
    "print(a*b)\n",
    "print(a//b)\n",
    "print(a%b)\n",
    "print(format(a/b, \".2f\"))"
   ]
  },
  {
   "cell_type": "markdown",
   "id": "262cc948",
   "metadata": {},
   "source": [
    "[6045] 정수 3개 입력받아 합과 평균 출력하기\n"
   ]
  },
  {
   "cell_type": "code",
   "execution_count": null,
   "id": "f68f852d",
   "metadata": {},
   "outputs": [],
   "source": [
    "a, b, c = input().split()\n",
    "a = int(a)\n",
    "b = int(b)\n",
    "c = int(c)\n",
    "print( a+b+c, format( (a+b+c)/3, \".2f\"))"
   ]
  },
  {
   "cell_type": "markdown",
   "id": "ee36a6b1",
   "metadata": {},
   "source": [
    "[6046] 정수 1개 입력받아 2배 곱해 출력하기"
   ]
  },
  {
   "cell_type": "code",
   "execution_count": 8,
   "id": "a765b8b0",
   "metadata": {},
   "outputs": [
    {
     "name": "stdout",
     "output_type": "stream",
     "text": [
      "1024\n",
      "2048\n"
     ]
    }
   ],
   "source": [
    "a = int(input())\n",
    "print(a<<1)"
   ]
  },
  {
   "cell_type": "markdown",
   "id": "16a79aae",
   "metadata": {},
   "source": [
    "[6047] 2의 거듭제곱 배로 곱해 출력하기"
   ]
  },
  {
   "cell_type": "code",
   "execution_count": 10,
   "id": "822fdb14",
   "metadata": {},
   "outputs": [
    {
     "name": "stdout",
     "output_type": "stream",
     "text": [
      "1 3\n",
      "8\n"
     ]
    }
   ],
   "source": [
    "a, b = input().split()\n",
    "a = int(a)\n",
    "b = int(b)\n",
    "print(a<<b)"
   ]
  },
  {
   "cell_type": "markdown",
   "id": "f0cb9b05",
   "metadata": {},
   "source": [
    "[6048] 정수 2개 입력받아 비교하기1"
   ]
  },
  {
   "cell_type": "code",
   "execution_count": null,
   "id": "59497a82",
   "metadata": {},
   "outputs": [],
   "source": [
    "a, b = input().split()\n",
    "a = int(a)\n",
    "b = int(b)\n",
    "print( a < b)"
   ]
  },
  {
   "cell_type": "markdown",
   "id": "a9914eb5",
   "metadata": {},
   "source": [
    "[6049] 정수 2개 입력받아 비교하기2"
   ]
  },
  {
   "cell_type": "code",
   "execution_count": 11,
   "id": "a1532a4f",
   "metadata": {},
   "outputs": [
    {
     "name": "stdout",
     "output_type": "stream",
     "text": [
      "0 0\n",
      "True\n"
     ]
    }
   ],
   "source": [
    "a, b = input().split()\n",
    "a = int(a)\n",
    "b = int(b)\n",
    "print( a == b)"
   ]
  },
  {
   "cell_type": "markdown",
   "id": "4a1e2632",
   "metadata": {},
   "source": [
    "[6050] 정수 2개 입력받아 비교하기3"
   ]
  },
  {
   "cell_type": "code",
   "execution_count": 12,
   "id": "6db1d0f4",
   "metadata": {},
   "outputs": [
    {
     "name": "stdout",
     "output_type": "stream",
     "text": [
      "0 1\n",
      "True\n"
     ]
    }
   ],
   "source": [
    "a, b = input().split()\n",
    "a = int(a)\n",
    "b = int(b)\n",
    "print( a <= b)"
   ]
  },
  {
   "cell_type": "markdown",
   "id": "13ead9a2",
   "metadata": {},
   "source": [
    "[6051] 정수 2개 입력받아 비교하기4"
   ]
  },
  {
   "cell_type": "code",
   "execution_count": 13,
   "id": "6b66497f",
   "metadata": {},
   "outputs": [
    {
     "name": "stdout",
     "output_type": "stream",
     "text": [
      "0 1\n",
      "True\n"
     ]
    }
   ],
   "source": [
    "a, b = input().split()\n",
    "a = int(a)\n",
    "b = int(b)\n",
    "print( a != b)"
   ]
  },
  {
   "cell_type": "markdown",
   "id": "414ae14c",
   "metadata": {},
   "source": [
    "[6052] 정수 입력받아 참 거짓 평가하기"
   ]
  },
  {
   "cell_type": "code",
   "execution_count": 14,
   "id": "605b8788",
   "metadata": {},
   "outputs": [
    {
     "name": "stdout",
     "output_type": "stream",
     "text": [
      "0\n",
      "False\n"
     ]
    }
   ],
   "source": [
    "a = int(input())\n",
    "print(a!=0)"
   ]
  },
  {
   "cell_type": "markdown",
   "id": "f3a61f98",
   "metadata": {},
   "source": [
    "[6053] 참 거짓 바꾸기"
   ]
  },
  {
   "cell_type": "code",
   "execution_count": 15,
   "id": "d90cda75",
   "metadata": {},
   "outputs": [
    {
     "name": "stdout",
     "output_type": "stream",
     "text": [
      "1\n",
      "False\n"
     ]
    }
   ],
   "source": [
    "a = bool(int(input()))\n",
    "print(not a)"
   ]
  },
  {
   "cell_type": "markdown",
   "id": "3e5c5ac9",
   "metadata": {},
   "source": [
    "[6054] 둘 다 참일 경우만 참 출력하기"
   ]
  },
  {
   "cell_type": "code",
   "execution_count": 16,
   "id": "08e97c86",
   "metadata": {},
   "outputs": [
    {
     "name": "stdout",
     "output_type": "stream",
     "text": [
      "1 1\n",
      "True\n"
     ]
    }
   ],
   "source": [
    "a, b = input().split()\n",
    "print(bool(int(a)) and bool(int(b)))"
   ]
  },
  {
   "cell_type": "markdown",
   "id": "ddc6372e",
   "metadata": {},
   "source": [
    "[6055] 하나라도 참이면 참 출력하기"
   ]
  },
  {
   "cell_type": "code",
   "execution_count": 17,
   "id": "759c9ddd",
   "metadata": {},
   "outputs": [
    {
     "name": "stdout",
     "output_type": "stream",
     "text": [
      "1 1\n",
      "True\n"
     ]
    }
   ],
   "source": [
    "a, b = input().split()\n",
    "print(bool(int(a)) or bool(int(b)))"
   ]
  },
  {
   "cell_type": "markdown",
   "id": "19212338",
   "metadata": {},
   "source": [
    "[6056] 참/거짓이 서로 다를 때에만 참 출력하기"
   ]
  },
  {
   "cell_type": "code",
   "execution_count": 18,
   "id": "b6992324",
   "metadata": {},
   "outputs": [
    {
     "name": "stdout",
     "output_type": "stream",
     "text": [
      "1 1\n",
      "False\n"
     ]
    }
   ],
   "source": [
    "a, b = input().split()\n",
    "print(bool(int(a)) != bool(int(b)))"
   ]
  },
  {
   "cell_type": "markdown",
   "id": "d96d92f8",
   "metadata": {},
   "source": [
    "[6057] 참/거짓이 서로 같을 때에만 참 출력하기"
   ]
  },
  {
   "cell_type": "code",
   "execution_count": 19,
   "id": "40e9fd57",
   "metadata": {},
   "outputs": [
    {
     "name": "stdout",
     "output_type": "stream",
     "text": [
      "0 0\n",
      "True\n"
     ]
    }
   ],
   "source": [
    "a, b = input().split()\n",
    "print(bool(int(a)) == bool(int(b)))"
   ]
  },
  {
   "cell_type": "markdown",
   "id": "a44b3163",
   "metadata": {},
   "source": [
    "[6058] 둘 다 거짓일 경우만 참 출력하기"
   ]
  },
  {
   "cell_type": "code",
   "execution_count": 20,
   "id": "f1fb5da1",
   "metadata": {},
   "outputs": [
    {
     "name": "stdout",
     "output_type": "stream",
     "text": [
      "0 0\n",
      "True\n"
     ]
    }
   ],
   "source": [
    "a, b = input().split()\n",
    "print(not bool(int(a)) and not bool(int(b)))"
   ]
  },
  {
   "cell_type": "markdown",
   "id": "b4f3113b",
   "metadata": {},
   "source": [
    "[6059] 비트단위로 NOT 하여 출력하기"
   ]
  },
  {
   "cell_type": "code",
   "execution_count": 22,
   "id": "b8807076",
   "metadata": {},
   "outputs": [
    {
     "name": "stdout",
     "output_type": "stream",
     "text": [
      "2\n",
      "-3\n"
     ]
    }
   ],
   "source": [
    "a = int(input())\n",
    "print(~a)"
   ]
  },
  {
   "cell_type": "markdown",
   "id": "0f8f785b",
   "metadata": {},
   "source": [
    "[6060] 비트단위로 AND 하여 출력하기"
   ]
  },
  {
   "cell_type": "code",
   "execution_count": 23,
   "id": "f521ca9a",
   "metadata": {},
   "outputs": [
    {
     "name": "stdout",
     "output_type": "stream",
     "text": [
      "3 5\n",
      "1\n"
     ]
    }
   ],
   "source": [
    "a, b = input().split()\n",
    "a = int(a)\n",
    "b = int(b)\n",
    "print( a&b )"
   ]
  },
  {
   "cell_type": "markdown",
   "id": "7750768b",
   "metadata": {},
   "source": [
    "[6061] 비트단위로 OR 하여 출력하기"
   ]
  },
  {
   "cell_type": "code",
   "execution_count": 24,
   "id": "b00e20aa",
   "metadata": {},
   "outputs": [
    {
     "name": "stdout",
     "output_type": "stream",
     "text": [
      "3 5\n",
      "7\n"
     ]
    }
   ],
   "source": [
    "a, b = input().split()\n",
    "a = int(a)\n",
    "b = int(b)\n",
    "print( a|b )"
   ]
  },
  {
   "cell_type": "markdown",
   "id": "e95d2c59",
   "metadata": {},
   "source": [
    "[6062] 비트단위로 XOR 하여 출력하기"
   ]
  },
  {
   "cell_type": "code",
   "execution_count": 25,
   "id": "84845ec4",
   "metadata": {},
   "outputs": [
    {
     "name": "stdout",
     "output_type": "stream",
     "text": [
      "3 5\n",
      "6\n"
     ]
    }
   ],
   "source": [
    "a, b = input().split()\n",
    "a = int(a)\n",
    "b = int(b)\n",
    "print( a^b )"
   ]
  },
  {
   "cell_type": "markdown",
   "id": "461c73fb",
   "metadata": {},
   "source": [
    "[6063] 정수 2개 입력받아 큰 값 출력하기"
   ]
  },
  {
   "cell_type": "code",
   "execution_count": 26,
   "id": "53834ee3",
   "metadata": {},
   "outputs": [
    {
     "name": "stdout",
     "output_type": "stream",
     "text": [
      "123 456\n",
      "456\n"
     ]
    }
   ],
   "source": [
    "a, b = input().split()\n",
    "a = int(a)  \n",
    "b = int(b)\n",
    "c = (a if (a>=b) else b)\n",
    "print(int(c))"
   ]
  },
  {
   "cell_type": "markdown",
   "id": "91f16fc9",
   "metadata": {},
   "source": [
    "[6064] 정수 3개 입력받아 가장 작은 값 출력하기"
   ]
  },
  {
   "cell_type": "code",
   "execution_count": 27,
   "id": "39a8f3de",
   "metadata": {},
   "outputs": [
    {
     "name": "stdout",
     "output_type": "stream",
     "text": [
      "1 3 -1\n",
      "-1\n"
     ]
    }
   ],
   "source": [
    "a, b, c = input().split()\n",
    "a = int(a)\n",
    "b = int(b)\n",
    "c = int(c)\n",
    "print( (a if a<b else b) if ((a if a<b else b)<c) else c  )"
   ]
  },
  {
   "cell_type": "markdown",
   "id": "d40a348b",
   "metadata": {},
   "source": [
    "[6065] 정수 3개 입력받아 짝수만 출력하기"
   ]
  },
  {
   "cell_type": "code",
   "execution_count": 34,
   "id": "25f16d7e",
   "metadata": {},
   "outputs": [
    {
     "name": "stdout",
     "output_type": "stream",
     "text": [
      "1 2 4\n",
      "2\n",
      "4\n"
     ]
    }
   ],
   "source": [
    "a, b, c = input().split()\n",
    "a = int(a)\n",
    "b = int(b)\n",
    "c = int(c)\n",
    "if a%2 == 0:\n",
    "    print(a)\n",
    "if b%2 == 0:\n",
    "    print(b)\n",
    "if c%2 == 0:\n",
    "    print(c)"
   ]
  },
  {
   "cell_type": "markdown",
   "id": "ecd64638",
   "metadata": {},
   "source": [
    "[6066] 정수 3개 입력받아 짝/홀 출력하기"
   ]
  },
  {
   "cell_type": "code",
   "execution_count": 35,
   "id": "677c6001",
   "metadata": {},
   "outputs": [
    {
     "name": "stdout",
     "output_type": "stream",
     "text": [
      "1 2 8\n",
      "odd\n",
      "even\n",
      "even\n"
     ]
    }
   ],
   "source": [
    "a, b, c = input().split()\n",
    "a = int(a)\n",
    "b = int(b)\n",
    "c = int(c)\n",
    "if a%2 == 0:\n",
    "    print(\"even\")\n",
    "else:\n",
    "    print(\"odd\")\n",
    "    \n",
    "if b%2 == 0:\n",
    "    print(\"even\")\n",
    "else:\n",
    "    print(\"odd\")\n",
    "    \n",
    "if c%2 == 0:\n",
    "    print(\"even\")\n",
    "else:\n",
    "    print(\"odd\")"
   ]
  },
  {
   "cell_type": "markdown",
   "id": "8c553aa4",
   "metadata": {},
   "source": [
    "[6067] 정수 1개 입력받아 분류하기"
   ]
  },
  {
   "cell_type": "code",
   "execution_count": 36,
   "id": "1b1558a9",
   "metadata": {},
   "outputs": [
    {
     "name": "stdout",
     "output_type": "stream",
     "text": [
      "-555\n",
      "B\n"
     ]
    }
   ],
   "source": [
    "a = int(input())\n",
    "\n",
    "if a <0  and a%2 == 0 :\n",
    "    print(\"A\")\n",
    "elif a<0 and a%2 !=0:\n",
    "    print(\"B\")\n",
    "elif a>0 and a%2 == 0:\n",
    "    print(\"C\")\n",
    "elif a>0 and a%2 != 0:\n",
    "    print(\"D\")"
   ]
  },
  {
   "cell_type": "markdown",
   "id": "0bb0c2fb",
   "metadata": {},
   "source": [
    "[6068] 점수 입력받아 평가 출력하기"
   ]
  },
  {
   "cell_type": "code",
   "execution_count": 37,
   "id": "018b25c5",
   "metadata": {},
   "outputs": [
    {
     "name": "stdout",
     "output_type": "stream",
     "text": [
      "5\n",
      "D\n"
     ]
    }
   ],
   "source": [
    "a = int(input())\n",
    "\n",
    "if a >= 90 and a <= 100:\n",
    "    print(\"A\")\n",
    "else:\n",
    "    if a >= 70:\n",
    "        print(\"B\")\n",
    "    else:\n",
    "        if a >= 40:\n",
    "            print(\"C\")\n",
    "        else:\n",
    "            if a>=0:\n",
    "                print(\"D\")\n",
    "                \n",
    "            "
   ]
  },
  {
   "cell_type": "markdown",
   "id": "9ae1bab8",
   "metadata": {},
   "source": [
    "[6069] 평가 입력받아 다르게 출력하기"
   ]
  },
  {
   "cell_type": "code",
   "execution_count": 39,
   "id": "b28af3f0",
   "metadata": {},
   "outputs": [
    {
     "name": "stdout",
     "output_type": "stream",
     "text": [
      "A\n",
      "best!!!\n"
     ]
    }
   ],
   "source": [
    "a = str(input())\n",
    "\n",
    "if a == \"A\":\n",
    "    print(\"best!!!\")\n",
    "elif a == \"B\":\n",
    "    print(\"good!!\")\n",
    "elif a == \"C\":\n",
    "    print(\"run!\")\n",
    "elif a == \"D\":\n",
    "    print(\"slowly~\")\n",
    "else:\n",
    "    print(\"what?\")"
   ]
  },
  {
   "cell_type": "markdown",
   "id": "ac1c8865",
   "metadata": {},
   "source": [
    "[6070] 월 입력받아 계절 출력하기"
   ]
  },
  {
   "cell_type": "code",
   "execution_count": 41,
   "id": "72824e7e",
   "metadata": {},
   "outputs": [
    {
     "name": "stdout",
     "output_type": "stream",
     "text": [
      "12\n",
      "winter\n"
     ]
    }
   ],
   "source": [
    "mon = int(input())\n",
    "\n",
    "if mon in [12, 1, 2]:\n",
    "    print(\"winter\")\n",
    "elif mon in [3, 4, 5]:\n",
    "    print(\"spring\")\n",
    "elif mon in [6, 7, 8]:\n",
    "    print(\"summer\")\n",
    "elif mon in [9, 10, 11]:\n",
    "    print(\"fall\")"
   ]
  },
  {
   "cell_type": "code",
   "execution_count": null,
   "id": "e77f112a",
   "metadata": {},
   "outputs": [],
   "source": []
  }
 ],
 "metadata": {
  "kernelspec": {
   "display_name": "Python 3 (ipykernel)",
   "language": "python",
   "name": "python3"
  },
  "language_info": {
   "codemirror_mode": {
    "name": "ipython",
    "version": 3
   },
   "file_extension": ".py",
   "mimetype": "text/x-python",
   "name": "python",
   "nbconvert_exporter": "python",
   "pygments_lexer": "ipython3",
   "version": "3.9.7"
  }
 },
 "nbformat": 4,
 "nbformat_minor": 5
}
