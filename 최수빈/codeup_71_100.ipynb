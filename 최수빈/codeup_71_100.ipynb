{
 "cells": [
  {
   "cell_type": "code",
   "execution_count": 2,
   "metadata": {},
   "outputs": [
    {
     "name": "stdout",
     "output_type": "stream",
     "text": [
      "7\n",
      "7\n",
      "2\n",
      "2\n",
      "5\n",
      "5\n",
      "0\n"
     ]
    }
   ],
   "source": [
    "#71. 0이 아니면 입력된 정수를 출력하고, 0이 입력되면 출력을 중단해보자.\n",
    "a=1\n",
    "while a!=0:\n",
    "    a = int(input())\n",
    "    if a!=0:\n",
    "        print(a)"
   ]
  },
  {
   "cell_type": "code",
   "execution_count": 1,
   "metadata": {},
   "outputs": [
    {
     "name": "stdout",
     "output_type": "stream",
     "text": [
      "5\n",
      "5\n",
      "4\n",
      "3\n",
      "2\n",
      "1\n"
     ]
    }
   ],
   "source": [
    "#72. 정수(1 ~ 100) 1개가 입력되었을 때 카운트다운을 출력해보자.\n",
    "a= int(input())\n",
    "while a!=0:\n",
    "    print(a)\n",
    "    a = a-1"
   ]
  },
  {
   "cell_type": "code",
   "execution_count": 3,
   "metadata": {},
   "outputs": [
    {
     "name": "stdout",
     "output_type": "stream",
     "text": [
      "5\n",
      "4\n",
      "3\n",
      "2\n",
      "1\n",
      "0\n"
     ]
    }
   ],
   "source": [
    "#73. 정수(1 ~ 100) 1개가 입력되었을 때 카운트다운을 출력해보자.\n",
    "a = int(input())\n",
    "while a!=0:\n",
    "    print(a-1)\n",
    "    a = a-1"
   ]
  },
  {
   "cell_type": "code",
   "execution_count": 11,
   "metadata": {},
   "outputs": [
    {
     "name": "stdout",
     "output_type": "stream",
     "text": [
      "f\n",
      "a b c d e f "
     ]
    }
   ],
   "source": [
    "#74. 영문 소문자(a ~ z) 1개가 입력되었을 때,a부터 그 문자까지의 알파벳을 순서대로 출력\n",
    "a = ord(input())\n",
    "b = ord('a')\n",
    "while b<=a:\n",
    "    print(chr(b), end =' ')\n",
    "    b = b+1"
   ]
  },
  {
   "cell_type": "code",
   "execution_count": 15,
   "metadata": {},
   "outputs": [
    {
     "name": "stdout",
     "output_type": "stream",
     "text": [
      "5\n",
      "0\n",
      "1\n",
      "2\n",
      "3\n",
      "4\n",
      "5\n"
     ]
    }
   ],
   "source": [
    "#75. 정수(0 ~ 100) 1개를 입력받아 0부터 그 수까지 순서대로 출력해보자.\n",
    "a = int(input())\n",
    "b = 0\n",
    "while b<=a:\n",
    "    print(b, end ='\\n')\n",
    "    b = b+1"
   ]
  },
  {
   "cell_type": "code",
   "execution_count": 16,
   "metadata": {},
   "outputs": [
    {
     "name": "stdout",
     "output_type": "stream",
     "text": [
      "4\n",
      "0\n",
      "1\n",
      "2\n",
      "3\n",
      "4\n"
     ]
    }
   ],
   "source": [
    "#76. 0부터 그 수까지 줄을 바꿔 한 개씩 출력한다. > range 사용해서\n",
    "a = int(input())\n",
    "b = 0\n",
    "for i in range(a+1):\n",
    "    print(b, end='\\n')\n",
    "    b = b+1"
   ]
  },
  {
   "cell_type": "code",
   "execution_count": 21,
   "metadata": {},
   "outputs": [
    {
     "name": "stdout",
     "output_type": "stream",
     "text": [
      "5\n",
      "6\n"
     ]
    }
   ],
   "source": [
    "#77. 정수(1 ~ 100) 1개를 입력받아 1부터 그 수까지 짝수의 합을 구해보자.\n",
    "a = int(input())\n",
    "b= 0\n",
    "for i in range(1, a+1):\n",
    "    if i%2 ==0:\n",
    "        b +=i\n",
    "print(b)"
   ]
  },
  {
   "cell_type": "code",
   "execution_count": 25,
   "metadata": {},
   "outputs": [
    {
     "name": "stdout",
     "output_type": "stream",
     "text": [
      "a\n",
      "a\n",
      "x\n",
      "x\n",
      "l\n",
      "l\n",
      "q\n"
     ]
    }
   ],
   "source": [
    "# 78. 영문 소문자 'q'가 입력될 때까지 입력한 문자를 계속 출력\n",
    "a = input()\n",
    "while a!='q':\n",
    "    print(a)\n",
    "    a = input()"
   ]
  },
  {
   "cell_type": "code",
   "execution_count": 7,
   "metadata": {},
   "outputs": [
    {
     "name": "stdout",
     "output_type": "stream",
     "text": [
      "55\n",
      "10\n"
     ]
    }
   ],
   "source": [
    "#79. 1, 2, 3, 4, 5 ... 를 순서대로 계속 더해 합을 만들어가다가,입력된 정수와 같거나 커졌을 때, 마지막에 더한 정수를 출력한다.\n",
    "a = int(input())\n",
    "total = 0\n",
    "for i in range(1,a+1):\n",
    "    total +=i\n",
    "    if total >= a:\n",
    "        break\n",
    "print(i)"
   ]
  },
  {
   "cell_type": "code",
   "execution_count": 8,
   "metadata": {},
   "outputs": [
    {
     "name": "stdout",
     "output_type": "stream",
     "text": [
      "2\n",
      "3\n",
      "1 1\n",
      "1 2\n",
      "1 3\n",
      "2 1\n",
      "2 2\n",
      "2 3\n"
     ]
    }
   ],
   "source": [
    "#80. 1부터 n까지, 1부터 m까지 숫자가 적힌 서로 다른 주사위 2개를 던졌을 때, 나올 수 있는 모든 경우를 출력해보자.\n",
    "n = int(input())\n",
    "m = int(input())\n",
    "for i in range(1,n+1):\n",
    "    for j in range(1,m+1):\n",
    "        print(i,j)"
   ]
  },
  {
   "cell_type": "code",
   "execution_count": 15,
   "metadata": {},
   "outputs": [
    {
     "name": "stdout",
     "output_type": "stream",
     "text": [
      "B\n",
      "B*1=B\n",
      "B*2=16\n",
      "B*3=21\n",
      "B*4=2C\n",
      "B*5=37\n",
      "B*6=42\n",
      "B*7=4D\n",
      "B*8=58\n",
      "B*9=63\n",
      "B*A=6E\n",
      "B*B=79\n",
      "B*C=84\n",
      "B*D=8F\n",
      "B*E=9A\n",
      "B*F=A5\n"
     ]
    }
   ],
   "source": [
    "#81. A, B, C, D, E, F 중 하나가 입력될 때,1부터 F까지 곱한 16진수 구구단의 내용을 출력해보자.\n",
    "n = int(input(),16)\n",
    "for i in range(1,16):\n",
    "     print('%X'%n,'*%X'%i, '=%X'%(n*i), sep='')"
   ]
  },
  {
   "cell_type": "code",
   "execution_count": 19,
   "metadata": {},
   "outputs": [
    {
     "name": "stdout",
     "output_type": "stream",
     "text": [
      "12\n",
      "1 2 X 4 5 X 7 8 X 10 11 X "
     ]
    }
   ],
   "source": [
    "#82. 1 부터 그 수까지 순서대로 공백을 두고 수를 출력하는데, \n",
    "# 3 또는 6 또는 9가 포함 되어있는 수인 경우, 그 수 대신 영문 대문자 X 를 출력한다.\n",
    "a = int(input())\n",
    "for i in range(1,a+1):\n",
    "    if i%3==0:\n",
    "        print(\"X\", end=' ')\n",
    "    else:\n",
    "        print(i, end = ' ')"
   ]
  },
  {
   "cell_type": "code",
   "execution_count": 23,
   "metadata": {},
   "outputs": [
    {
     "name": "stdout",
     "output_type": "stream",
     "text": [
      "2 2 2\n",
      "000\n",
      "001\n",
      "010\n",
      "011\n",
      "100\n",
      "101\n",
      "110\n",
      "111\n",
      "8\n"
     ]
    }
   ],
   "source": [
    "#83. 만들 수 있는 rgb 색의 정보를 오름차순으로 줄을 바꿔 모두 출력하고, 마지막에 그 개수를 출력한다.\n",
    "a,b,c = input().split()\n",
    "a= int(a); b= int(b); c = int(c)\n",
    "for i in range(a):\n",
    "    for j in range(b):\n",
    "        for k in range(c):\n",
    "            print(i,j,k, sep='')\n",
    "print(a*b*c)"
   ]
  },
  {
   "cell_type": "code",
   "execution_count": 26,
   "metadata": {},
   "outputs": [
    {
     "name": "stdout",
     "output_type": "stream",
     "text": [
      "44100 16 2 10\n",
      "1.7 MB\n"
     ]
    }
   ],
   "source": [
    "#84. 소수점 첫째 자리까지의 정확도로 출력하고 MB를 공백을 두고 출력한다.\n",
    "h, b, c, s = map(int, input().split())\n",
    "mb = (h*b*c*s)/8/1024/1024\n",
    "print('%.1f'%mb, 'MB')"
   ]
  },
  {
   "cell_type": "code",
   "execution_count": 29,
   "metadata": {},
   "outputs": [
    {
     "name": "stdout",
     "output_type": "stream",
     "text": [
      "1024 768 24\n",
      "2.25 MB\n"
     ]
    }
   ],
   "source": [
    "#85. 소수점 셋째 자리에서 반올림하여 둘째 자리까지 출력한다.\n",
    "w, h, b = map(int, input().split())\n",
    "pix = (w*h*b)/8/1024/1024\n",
    "print('%.2f'%pix, 'MB')"
   ]
  },
  {
   "cell_type": "code",
   "execution_count": 1,
   "metadata": {},
   "outputs": [
    {
     "name": "stdout",
     "output_type": "stream",
     "text": [
      "57\n",
      "66\n"
     ]
    }
   ],
   "source": [
    "#86. 1, 2, 3, 4, 5 ... 순서대로 계속 더해가다가, 그 합이 입력된 정수보다 커지거나 같아지는 경우,그때까지의 합을 출력한다.\n",
    "a = int(input())\n",
    "total = 0\n",
    "for i in range(1,a+1):\n",
    "    total += i\n",
    "    if total >= a:\n",
    "        break\n",
    "print(total)"
   ]
  },
  {
   "cell_type": "code",
   "execution_count": 8,
   "metadata": {},
   "outputs": [
    {
     "name": "stdout",
     "output_type": "stream",
     "text": [
      "10\n",
      "1 2 4 5 7 8 10 "
     ]
    }
   ],
   "source": [
    "#87. 1부터 입력한 정수까지 1씩 증가시켜 출력하는 프로그램을 작성하되,3의 배수인 경우는 출력하지 않도록 만들어보자.\n",
    "a = int(input())\n",
    "for i in range(1,a+1):\n",
    "    if i%3==0:\n",
    "        continue\n",
    "    print(i, end=' ')"
   ]
  },
  {
   "cell_type": "code",
   "execution_count": 9,
   "metadata": {},
   "outputs": [
    {
     "name": "stdout",
     "output_type": "stream",
     "text": [
      "1 3 5\n",
      "13\n"
     ]
    }
   ],
   "source": [
    "#88. 시작 값(a), 등차의 값(d), 몇 번째 수 인지를 의미하는 정수(n)가 공백을 두고 입력된다. 이때 n번째 수\n",
    "a,d,n = map(int, input().split())\n",
    "num = a + d*(n-1)\n",
    "print(num)"
   ]
  },
  {
   "cell_type": "code",
   "execution_count": 11,
   "metadata": {},
   "outputs": [
    {
     "name": "stdout",
     "output_type": "stream",
     "text": [
      "2 3 7\n",
      "1458\n"
     ]
    }
   ],
   "source": [
    "#89. 시작 값(a), 등비의 값(r), 몇 번째 인지를 나타내는 정수(n)가 공백을 두고 입력된다. 이때 n번째 수\n",
    "a,r,n = map(int, input().split())\n",
    "num = a * (r**(n-1))\n",
    "print(num)"
   ]
  },
  {
   "cell_type": "code",
   "execution_count": 13,
   "metadata": {},
   "outputs": [
    {
     "name": "stdout",
     "output_type": "stream",
     "text": [
      "1 -2 1 8\n",
      "-85\n"
     ]
    }
   ],
   "source": [
    "#90. 시작 값(a), 곱할 값(m), 더할 값(d), 몇 번째인지를 나타내는 정수(n)가 입력될 때, n번째 수\n",
    "# 1부터 시작해 이전에 만든 수에 -2를 곱한 다음 1을 더해 다음 수를 만든 수열이다.\n",
    "a, m, d, n = map(int, input().split())\n",
    "num = 0\n",
    "for i in range(1,n):\n",
    "    a = (a*m)+d\n",
    "print(a)"
   ]
  },
  {
   "cell_type": "code",
   "execution_count": 14,
   "metadata": {},
   "outputs": [
    {
     "name": "stdout",
     "output_type": "stream",
     "text": [
      "3 7 9\n",
      "63\n"
     ]
    }
   ],
   "source": [
    "#91. 같은 날 동시에 가입한 인원 3명이 규칙적으로 방문하는 방문 주기가 공백을 두고 입력된다. \n",
    "# 3명이 다시 모두 함께 방문해 문제를 풀어보는 날은?\n",
    "a, b, c = map(int, input().split())\n",
    "d = 1\n",
    "while d%a!=0 or d%b!=0 or d%c !=0:\n",
    "    d +=1\n",
    "print(d)"
   ]
  },
  {
   "cell_type": "code",
   "execution_count": 19,
   "metadata": {},
   "outputs": [
    {
     "name": "stdout",
     "output_type": "stream",
     "text": [
      "10\n",
      "1 3 2 2 5 6 7 4 5 9\n",
      "1 2 1 1 2 1 1 0 1 0 0 0 0 0 0 0 0 0 0 0 0 0 0 "
     ]
    }
   ],
   "source": [
    "# 92. 첫 번째 줄에 출석 번호를 부른 횟수인 정수 n이 입력된다. (1 ~ 10000)\n",
    "# 두 번째 줄에는 무작위로 부른 n개의 번호(1 ~ 23)가 공백을 두고 순서대로 입력된다.\n",
    "# 1번부터 번호가 불린 횟수를 순서대로 공백으로 구분하여 한 줄로 출력한다.\n",
    "n = int(input())\n",
    "a = input().split()\n",
    "for i in range(n) :\n",
    "    a[i] = int(a[i])\n",
    "count = []\n",
    "for i in range(24):\n",
    "    count.append(0)\n",
    "\n",
    "for i in range(n):\n",
    "    count[a[i]] +=1\n",
    "    \n",
    "for i in range(1,24):\n",
    "    print(count[i], end=' ')"
   ]
  },
  {
   "cell_type": "code",
   "execution_count": 21,
   "metadata": {},
   "outputs": [
    {
     "name": "stdout",
     "output_type": "stream",
     "text": [
      "10\n",
      "10 4 2 3 6 6 7 9 8 5\n",
      "5 8 9 7 6 6 3 2 4 10 "
     ]
    }
   ],
   "source": [
    "#93. 출석 번호를 n번 무작위로 불렀을 때, 부른 번호를 거꾸로 출력해 보자.\n",
    "n = int(input())\n",
    "k = input().split()\n",
    "\n",
    "for i in range(n):\n",
    "    k[i] = int(k[i])\n",
    "\n",
    "for i in range(n-1,-1,-1):\n",
    "    print(k[i], end=' ')"
   ]
  },
  {
   "cell_type": "code",
   "execution_count": 22,
   "metadata": {},
   "outputs": [
    {
     "name": "stdout",
     "output_type": "stream",
     "text": [
      "10\n",
      "10 4 2 3 6 6 7 9 8 5\n",
      "2\n"
     ]
    }
   ],
   "source": [
    "#94. 출석을 부른 번호 중에 가장 빠른 번호를 출력한다.\n",
    "n= int(input())\n",
    "k = input().split()\n",
    "\n",
    "for i in range(n):\n",
    "    k[i] = int(k[i])\n",
    "res = min(k)\n",
    "print(res)"
   ]
  },
  {
   "cell_type": "code",
   "execution_count": 27,
   "metadata": {},
   "outputs": [
    {
     "name": "stdout",
     "output_type": "stream",
     "text": [
      "5\n",
      "1 1\n",
      "2 2\n",
      "3 3\n",
      "4 4\n",
      "5 5\n",
      "0 0 0 0 0 0 0 0 0 0 0 0 0 0 0 0 0 0 0 0 \n",
      "0 1 0 0 0 0 0 0 0 0 0 0 0 0 0 0 0 0 0 0 \n",
      "0 0 1 0 0 0 0 0 0 0 0 0 0 0 0 0 0 0 0 0 \n",
      "0 0 0 1 0 0 0 0 0 0 0 0 0 0 0 0 0 0 0 0 \n",
      "0 0 0 0 1 0 0 0 0 0 0 0 0 0 0 0 0 0 0 0 \n",
      "0 0 0 0 0 1 0 0 0 0 0 0 0 0 0 0 0 0 0 0 \n",
      "0 0 0 0 0 0 0 0 0 0 0 0 0 0 0 0 0 0 0 0 \n",
      "0 0 0 0 0 0 0 0 0 0 0 0 0 0 0 0 0 0 0 0 \n",
      "0 0 0 0 0 0 0 0 0 0 0 0 0 0 0 0 0 0 0 0 \n",
      "0 0 0 0 0 0 0 0 0 0 0 0 0 0 0 0 0 0 0 0 \n",
      "0 0 0 0 0 0 0 0 0 0 0 0 0 0 0 0 0 0 0 0 \n",
      "0 0 0 0 0 0 0 0 0 0 0 0 0 0 0 0 0 0 0 0 \n",
      "0 0 0 0 0 0 0 0 0 0 0 0 0 0 0 0 0 0 0 0 \n",
      "0 0 0 0 0 0 0 0 0 0 0 0 0 0 0 0 0 0 0 0 \n",
      "0 0 0 0 0 0 0 0 0 0 0 0 0 0 0 0 0 0 0 0 \n",
      "0 0 0 0 0 0 0 0 0 0 0 0 0 0 0 0 0 0 0 0 \n",
      "0 0 0 0 0 0 0 0 0 0 0 0 0 0 0 0 0 0 0 0 \n",
      "0 0 0 0 0 0 0 0 0 0 0 0 0 0 0 0 0 0 0 0 \n",
      "0 0 0 0 0 0 0 0 0 0 0 0 0 0 0 0 0 0 0 0 \n",
      "0 0 0 0 0 0 0 0 0 0 0 0 0 0 0 0 0 0 0 0 \n"
     ]
    }
   ],
   "source": [
    "# #95. 바둑판에 올려 놓을 흰 돌의 개수(n)가 첫 줄에 입력된다.\n",
    "# 둘째 줄 부터 n+1 번째 줄까지 힌 돌을 놓을 좌표(x, y)가 n줄 입력된다.\n",
    "# 흰 돌이 올려진 바둑판의 상황을 출력한다.\n",
    "# 흰 돌이 있는 위치는 1, 없는 곳은 0으로 출력한다.\n",
    "\n",
    "n = int(input())\n",
    "d = [[0 for j in range(20)] for i in range(20)]\n",
    "for i in range(n):\n",
    "    x,y = map(int,input().split())\n",
    "    d[x][y] = 1\n",
    "\n",
    "for i in range(20):\n",
    "    for j in range(20):\n",
    "        print(d[i][j], end=' ')\n",
    "    print()"
   ]
  },
  {
   "cell_type": "code",
   "execution_count": 30,
   "metadata": {},
   "outputs": [
    {
     "name": "stdout",
     "output_type": "stream",
     "text": [
      "0 0 0 0 0 0 0 0 0 1 0 1 0 0 0 0 0 0 0\n",
      "0 0 0 0 0 0 0 0 0 1 0 1 0 0 0 0 0 0 0\n",
      "0 0 0 0 0 0 0 0 0 1 0 1 0 0 0 0 0 0 0\n",
      "0 0 0 0 0 0 0 0 0 1 0 1 0 0 0 0 0 0 0\n",
      "0 0 0 0 0 0 0 0 0 1 0 1 0 0 0 0 0 0 0\n",
      "0 0 0 0 0 0 0 0 0 1 0 1 0 0 0 0 0 0 0\n",
      "0 0 0 0 0 0 0 0 0 1 0 1 0 0 0 0 0 0 0\n",
      "0 0 0 0 0 0 0 0 0 1 0 1 0 0 0 0 0 0 0\n",
      "0 0 0 0 0 0 0 0 0 1 0 1 0 0 0 0 0 0 0\n",
      "1 1 1 1 1 1 1 1 1 1 1 1 1 1 1 1 1 1 1\n",
      "0 0 0 0 0 0 0 0 0 1 0 1 0 0 0 0 0 0 0\n",
      "1 1 1 1 1 1 1 1 1 1 1 1 1 1 1 1 1 1 1\n",
      "0 0 0 0 0 0 0 0 0 1 0 1 0 0 0 0 0 0 0\n",
      "0 0 0 0 0 0 0 0 0 1 0 1 0 0 0 0 0 0 0\n",
      "0 0 0 0 0 0 0 0 0 1 0 1 0 0 0 0 0 0 0\n",
      "0 0 0 0 0 0 0 0 0 1 0 1 0 0 0 0 0 0 0\n",
      "0 0 0 0 0 0 0 0 0 1 0 1 0 0 0 0 0 0 0\n",
      "0 0 0 0 0 0 0 0 0 1 0 1 0 0 0 0 0 0 0\n",
      "0 0 0 0 0 0 0 0 0 1 0 1 0 0 0 0 0 0 0\n",
      "2\n",
      "10 10\n",
      "12 12\n",
      "0 0 0 0 0 0 0 0 0 0 0 0 0 0 0 0 0 0 0 \n",
      "0 0 0 0 0 0 0 0 0 0 0 0 0 0 0 0 0 0 0 \n",
      "0 0 0 0 0 0 0 0 0 0 0 0 0 0 0 0 0 0 0 \n",
      "0 0 0 0 0 0 0 0 0 0 0 0 0 0 0 0 0 0 0 \n",
      "0 0 0 0 0 0 0 0 0 0 0 0 0 0 0 0 0 0 0 \n",
      "0 0 0 0 0 0 0 0 0 0 0 0 0 0 0 0 0 0 0 \n",
      "0 0 0 0 0 0 0 0 0 0 0 0 0 0 0 0 0 0 0 \n",
      "0 0 0 0 0 0 0 0 0 0 0 0 0 0 0 0 0 0 0 \n",
      "0 0 0 0 0 0 0 0 0 0 0 0 0 0 0 0 0 0 0 \n",
      "0 0 0 0 0 0 0 0 0 1 0 1 0 0 0 0 0 0 0 \n",
      "0 0 0 0 0 0 0 0 0 0 0 0 0 0 0 0 0 0 0 \n",
      "0 0 0 0 0 0 0 0 0 1 0 1 0 0 0 0 0 0 0 \n",
      "0 0 0 0 0 0 0 0 0 0 0 0 0 0 0 0 0 0 0 \n",
      "0 0 0 0 0 0 0 0 0 0 0 0 0 0 0 0 0 0 0 \n",
      "0 0 0 0 0 0 0 0 0 0 0 0 0 0 0 0 0 0 0 \n",
      "0 0 0 0 0 0 0 0 0 0 0 0 0 0 0 0 0 0 0 \n",
      "0 0 0 0 0 0 0 0 0 0 0 0 0 0 0 0 0 0 0 \n",
      "0 0 0 0 0 0 0 0 0 0 0 0 0 0 0 0 0 0 0 \n",
      "0 0 0 0 0 0 0 0 0 0 0 0 0 0 0 0 0 0 0 \n"
     ]
    }
   ],
   "source": [
    "#96. 바둑알이 깔려 있는 상황이 19 * 19 크기의 정수값으로 입력된다.\n",
    "# 십자 뒤집기 횟수(n)가 입력된다.\n",
    "# 십자 뒤집기 좌표가 횟수(n) 만큼 입력된다.\n",
    "\n",
    "a=[list(map(int, input().split())) for i in range(19)]\n",
    "n = int(input())\n",
    "for i in range(n):\n",
    "    x,y = map(int,input().split())\n",
    "    for j in range(19):\n",
    "        if a[x-1][j]==0:\n",
    "            a[x-1][j]=1\n",
    "        else:\n",
    "            a[x-1][j]=0\n",
    "    for j in range(19):\n",
    "        if a[j][y-1]==0:\n",
    "            a[j][y-1]=1\n",
    "        else:\n",
    "            a[j][y-1]=0\n",
    "for i in range(19):\n",
    "    for j in range(19):\n",
    "        print(a[i][j], end=' ')\n",
    "    print()"
   ]
  },
  {
   "cell_type": "code",
   "execution_count": 32,
   "metadata": {},
   "outputs": [
    {
     "name": "stdout",
     "output_type": "stream",
     "text": [
      "5 5\n",
      "3\n",
      "2 0 1 1\n",
      "3 1 2 3\n",
      "4 1 2 5\n",
      "1 1 0 0 0 \n",
      "0 0 1 0 1 \n",
      "0 0 1 0 1 \n",
      "0 0 1 0 1 \n",
      "0 0 0 0 1 \n"
     ]
    }
   ],
   "source": [
    "#97. 첫 줄에 격자판의 세로(h), 가로(w) 가 공백을 두고 입력되고,\n",
    "# 두 번째 줄에 놓을 수 있는 막대의 개수(n)\n",
    "# 세 번째 줄부터 각 막대의 길이(l), 방향(d), 좌표(x, y)가 입력된다.\n",
    "# 모든 막대를 놓은 격자판의 상태를 출력한다.\n",
    "# 막대에 의해 가려진 경우 1, 아닌 경우 0으로 출력한다.\n",
    "\n",
    "h,w = map(int,input().split())\n",
    "n = int(input())\n",
    "a = [[0]*w for i in range(h)]\n",
    "\n",
    "for i in range(n):\n",
    "    l,d,x,y = map(int, input().split()) #d가 가로방향이면 0, 세로면1\n",
    "    if d==0:\n",
    "        for j in range(l):\n",
    "            a[x-1][y-1+j]=1\n",
    "    else:\n",
    "        for j in range(l):\n",
    "            a[x-1+j][y-1]=1\n",
    "for i in range(h):\n",
    "    for j in range(w):\n",
    "        print(a[i][j], end=' ')\n",
    "    print()"
   ]
  },
  {
   "cell_type": "code",
   "execution_count": 1,
   "metadata": {},
   "outputs": [
    {
     "name": "stdout",
     "output_type": "stream",
     "text": [
      "1 1 1 1 1 1 1 1 1 1\n",
      "1 0 0 1 0 0 0 0 0 1\n",
      "1 0 0 1 1 1 0 0 0 1\n",
      "1 0 0 0 0 0 0 1 0 1\n",
      "1 0 0 0 0 0 0 1 0 1\n",
      "1 0 0 0 0 1 0 1 0 1\n",
      "1 0 0 0 0 1 2 1 0 1\n",
      "1 0 0 0 0 1 0 0 0 1\n",
      "1 0 0 0 0 0 0 0 0 1\n",
      "1 1 1 1 1 1 1 1 1 1\n",
      "1 1 1 1 1 1 1 1 1 1 \n",
      "1 9 9 1 0 0 0 0 0 1 \n",
      "1 0 9 1 1 1 0 0 0 1 \n",
      "1 0 9 9 9 9 9 1 0 1 \n",
      "1 0 0 0 0 0 9 1 0 1 \n",
      "1 0 0 0 0 1 9 1 0 1 \n",
      "1 0 0 0 0 1 9 1 0 1 \n",
      "1 0 0 0 0 1 0 0 0 1 \n",
      "1 0 0 0 0 0 0 0 0 1 \n",
      "1 1 1 1 1 1 1 1 1 1 \n"
     ]
    }
   ],
   "source": [
    "#98. 10*10 크기의 미로 상자의 구조와 먹이의 위치가 입력된다\n",
    "# 성실한 개미가 이동한 경로를 9로 표시해 출력한다.\n",
    "\n",
    "# 미로 상자에 넣은 개미는 먹이를 찾았거나, 더 이상 움직일 수 없을 때까지\n",
    "# 오른쪽 또는 아래쪽으로만 움직였다.\n",
    "# 미로 상자의 구조가 0(갈 수 있는 곳), 1(벽 또는 장애물)로 주어지고,먹이가 2로 주어질 때 \n",
    "# 개미는 (2, 2)에서 출발한다.\n",
    "\n",
    "d=[]\n",
    "for i in range(10):\n",
    "    d.append(list(map(int, input().split())))\n",
    "x=1; y=1\n",
    "while True:\n",
    "    if(d[x][y]==0):\n",
    "        d[x][y]=9\n",
    "    elif (d[x][y]==2):\n",
    "        d[x][y]=9\n",
    "        break\n",
    "    \n",
    "    if((d[x][y+1]==1) and (d[x+1][y]==1)): # 더이상 움직일 수 없음\n",
    "        break\n",
    "    if(d[x][y+1]!=1): #오른쪽으로 갈수 있으면 가고\n",
    "        y=y+1\n",
    "    elif(d[x+1][y]!=1): # 그게 아니면 아래로간다\n",
    "        x=x+1\n",
    "for i in range(10):\n",
    "    for j in range(10):\n",
    "        print(d[i][j], end=' ')\n",
    "    print()"
   ]
  }
 ],
 "metadata": {
  "kernelspec": {
   "display_name": "Python 3",
   "language": "python",
   "name": "python3"
  },
  "language_info": {
   "codemirror_mode": {
    "name": "ipython",
    "version": 3
   },
   "file_extension": ".py",
   "mimetype": "text/x-python",
   "name": "python",
   "nbconvert_exporter": "python",
   "pygments_lexer": "ipython3",
   "version": "3.7.6"
  }
 },
 "nbformat": 4,
 "nbformat_minor": 4
}
