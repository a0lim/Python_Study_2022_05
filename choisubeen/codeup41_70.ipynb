{
 "cells": [
  {
   "cell_type": "code",
   "execution_count": 1,
   "metadata": {},
   "outputs": [
    {
     "name": "stdout",
     "output_type": "stream",
     "text": [
      "10\n",
      "3\n",
      "1\n"
     ]
    }
   ],
   "source": [
    "#41. 정수 2개(a, b) 를 입력받아 a를 b로 나눈 나머지를 출력해보자.\n",
    "a = int(input())\n",
    "b = int(input())\n",
    "print(a%b)"
   ]
  },
  {
   "cell_type": "code",
   "execution_count": 3,
   "metadata": {},
   "outputs": [
    {
     "name": "stdout",
     "output_type": "stream",
     "text": [
      "3.141592\n",
      "3.14\n"
     ]
    }
   ],
   "source": [
    "#42. 실수 1개를 입력받아 소숫점 이하 두 번째 자리까지의 정확도로 반올림한 값을 출력해보자.\n",
    "a = float(input())\n",
    "print('%.2f'%a)"
   ]
  },
  {
   "cell_type": "code",
   "execution_count": 7,
   "metadata": {},
   "outputs": [
    {
     "name": "stdout",
     "output_type": "stream",
     "text": [
      "10.0 3.0\n",
      "3.333\n"
     ]
    }
   ],
   "source": [
    "#43. 실수 2개를 입력받아 f1을 f2로 나눈 뒤, 소수점 넷째자리에서 반올림 해서 소수 셋째자리까지 나타내라\n",
    "a,b = input().split()\n",
    "a = float(a)\n",
    "b = float(b)\n",
    "print('%.3f'%(a/b))"
   ]
  },
  {
   "cell_type": "code",
   "execution_count": 8,
   "metadata": {},
   "outputs": [
    {
     "name": "stdout",
     "output_type": "stream",
     "text": [
      "10 3\n",
      "13\n",
      "7\n",
      "30\n",
      "3\n",
      "1\n",
      "3.33\n"
     ]
    }
   ],
   "source": [
    "#44. 정수 2개(a, b)를 입력받아 합, 차, 곱, 몫, 나머지, 나눈 값을 자동으로 계산해보자.\n",
    "a,b = input().split()\n",
    "a = int(a)\n",
    "b = int(b)\n",
    "print(a+b)\n",
    "print(a-b)\n",
    "print(a*b)\n",
    "print(a//b)\n",
    "print(a%b)\n",
    "print('%.2f'%(a/b))"
   ]
  },
  {
   "cell_type": "code",
   "execution_count": 10,
   "metadata": {},
   "outputs": [
    {
     "name": "stdout",
     "output_type": "stream",
     "text": [
      "1 2 3\n",
      "6 2.0\n"
     ]
    }
   ],
   "source": [
    "#45. 정수 3개를 입력받아 합과 평균을 출력해보자.\n",
    "a,b,c = input().split()\n",
    "a = int(a); b=int(b); c = int(c)\n",
    "print(a+b+c, (a+b+c)/3)"
   ]
  },
  {
   "cell_type": "code",
   "execution_count": 11,
   "metadata": {},
   "outputs": [
    {
     "name": "stdout",
     "output_type": "stream",
     "text": [
      "1024\n",
      "2048\n"
     ]
    }
   ],
   "source": [
    "#46. 바프시프트 연산 사용해 정수 입력받고 2배 값 출력\n",
    "a = int(input())\n",
    "print(a<<1)"
   ]
  },
  {
   "cell_type": "code",
   "execution_count": 12,
   "metadata": {},
   "outputs": [
    {
     "name": "stdout",
     "output_type": "stream",
     "text": [
      "1 3\n",
      "8\n"
     ]
    }
   ],
   "source": [
    "#47. 정수 2개(a, b)를 입력받아 a를 2^b배 곱한 값으로 출력해보자.\n",
    "a, b = input().split()\n",
    "a = int(a) ; b= int(b)\n",
    "print(a<<b)"
   ]
  },
  {
   "cell_type": "code",
   "execution_count": 13,
   "metadata": {},
   "outputs": [
    {
     "name": "stdout",
     "output_type": "stream",
     "text": [
      "1 9\n",
      "True\n"
     ]
    }
   ],
   "source": [
    "#48. 두 정수(a, b)를 입력받아 a가 b보다 작으면 True 를, a가 b보다 크거나 같으면 False 를 출력하는 프로그램을 작성해보자.\n",
    "a, b = input().split()\n",
    "a = int(a) ; b = int(b)\n",
    "print(a<b)"
   ]
  },
  {
   "cell_type": "code",
   "execution_count": 14,
   "metadata": {},
   "outputs": [
    {
     "name": "stdout",
     "output_type": "stream",
     "text": [
      "0 0\n",
      "True\n"
     ]
    }
   ],
   "source": [
    "#49. 두 정수(a, b)를 입력받아 a와 b의 값이 같으면 True 를, 같지 않으면 False 를 출력하는 프로그램을 작성\n",
    "a, b = input().split()\n",
    "a = int(a); b= int(b)\n",
    "print(a==b)"
   ]
  },
  {
   "cell_type": "code",
   "execution_count": 15,
   "metadata": {},
   "outputs": [
    {
     "name": "stdout",
     "output_type": "stream",
     "text": [
      "0 -1\n",
      "False\n"
     ]
    }
   ],
   "source": [
    "#50. 두 정수(a, b)를 입력받아 b의 값이 a의 값 보다 크거나 같으면 True\n",
    "a,b = input().split()\n",
    "a = int(a); b= int(b)\n",
    "print(a<=b)"
   ]
  },
  {
   "cell_type": "code",
   "execution_count": 16,
   "metadata": {},
   "outputs": [
    {
     "name": "stdout",
     "output_type": "stream",
     "text": [
      "0 1\n",
      "True\n"
     ]
    }
   ],
   "source": [
    "#51. 두 정수(a, b)를 입력받아 a의 값이 b의 값과 서로 다르면 True \n",
    "a, b= input().split()\n",
    "a = int(a); b= int(b)\n",
    "print(a!=b)"
   ]
  },
  {
   "cell_type": "code",
   "execution_count": 17,
   "metadata": {},
   "outputs": [
    {
     "name": "stdout",
     "output_type": "stream",
     "text": [
      "0\n",
      "False\n"
     ]
    }
   ],
   "source": [
    "#52. 정수가 입력되었을 때, 입력된 값이 0이면 False, 0이 아니면 True 를 출력한다.\n",
    "a = int(input())\n",
    "print(a!=0)"
   ]
  },
  {
   "cell_type": "code",
   "execution_count": 18,
   "metadata": {},
   "outputs": [
    {
     "name": "stdout",
     "output_type": "stream",
     "text": [
      "1\n",
      "False\n"
     ]
    }
   ],
   "source": [
    "#53. 정수 1개 입력, 입력된 정수의 불 값이 False 이면 True, True 이면 False 를 출력한다.\n",
    "a = bool(int(input()))\n",
    "print(not a)"
   ]
  },
  {
   "cell_type": "code",
   "execution_count": 19,
   "metadata": {},
   "outputs": [
    {
     "name": "stdout",
     "output_type": "stream",
     "text": [
      "1 1\n",
      "True\n"
     ]
    }
   ],
   "source": [
    "#54. 2개의 정수값이 입력될 때,그 불 값이 모두 True 일 때에만 True 를 출력하는 프로그램을 작성\n",
    "a, b = input().split()\n",
    "a = bool(int(a))\n",
    "b = bool(int(b))\n",
    "print(a and b)"
   ]
  },
  {
   "cell_type": "code",
   "execution_count": 20,
   "metadata": {},
   "outputs": [
    {
     "name": "stdout",
     "output_type": "stream",
     "text": [
      "1 1\n",
      "True\n"
     ]
    }
   ],
   "source": [
    "#55. 2개의 정수값이 입력될 때,그 불 값이 하나라도 True 일 때에만 True 를 출력\n",
    "a, b= input().split()\n",
    "a = bool(int(a))\n",
    "b = bool(int(b))\n",
    "print(a or b)"
   ]
  },
  {
   "cell_type": "code",
   "execution_count": 21,
   "metadata": {},
   "outputs": [
    {
     "name": "stdout",
     "output_type": "stream",
     "text": [
      "1 1\n",
      "False\n"
     ]
    }
   ],
   "source": [
    "#56. 2개의 정수값이 입력될 때,그 불 값(True/False) 이 서로 다를 때에만 True 를 출력\n",
    "a, b = input().split()\n",
    "a = bool(int(a))\n",
    "b = bool(int(b))\n",
    "print(a!=b)"
   ]
  },
  {
   "cell_type": "code",
   "execution_count": 24,
   "metadata": {},
   "outputs": [
    {
     "name": "stdout",
     "output_type": "stream",
     "text": [
      "0 0\n",
      "True\n"
     ]
    }
   ],
   "source": [
    "#57. 2개의 정수값이 입력될때, 두 값의 True / False 값이 서로 같을 경우만 True 를 출력\n",
    "a, b = input().split()\n",
    "a = bool(int(a)); b = bool(int(b))\n",
    "print(a == b)"
   ]
  },
  {
   "cell_type": "code",
   "execution_count": 25,
   "metadata": {},
   "outputs": [
    {
     "name": "stdout",
     "output_type": "stream",
     "text": [
      "0 0\n",
      "True\n"
     ]
    }
   ],
   "source": [
    "#58. 2개의 정수값 입력될 때, 그 불 값(True/False) 이 모두 False 일 때에만 True 를 출력\n",
    "a, b= input().split()\n",
    "a = bool(int(a)); b= bool(int(b))\n",
    "print(a ==False and b ==False)"
   ]
  },
  {
   "cell_type": "code",
   "execution_count": 26,
   "metadata": {},
   "outputs": [
    {
     "name": "stdout",
     "output_type": "stream",
     "text": [
      "2\n",
      "-3\n"
     ]
    }
   ],
   "source": [
    "#59. 비트 단위로 1 -> 0, 0 -> 1로 바꾼 후 그 값을 10진수로 출력한다.\n",
    "a = int(input())\n",
    "print(~a)"
   ]
  },
  {
   "cell_type": "code",
   "execution_count": 27,
   "metadata": {},
   "outputs": [
    {
     "name": "stdout",
     "output_type": "stream",
     "text": [
      "3 5\n",
      "1\n"
     ]
    }
   ],
   "source": [
    "#60. 두 정수를 비트단위(bitwise)로 and 계산을 수행한 결과를 10진수로 출력한다\n",
    "a, b= input().split()\n",
    "a = int(a); b= int(b)\n",
    "print(a&b)"
   ]
  },
  {
   "cell_type": "code",
   "execution_count": 28,
   "metadata": {},
   "outputs": [
    {
     "name": "stdout",
     "output_type": "stream",
     "text": [
      "3 5\n",
      "7\n"
     ]
    }
   ],
   "source": [
    "#61. 두 정수를 비트단위(bitwise)로 or 계산을 수행한 결과를 10진수로 출력한다.\n",
    "a,b = input().split()\n",
    "a = int(a); b= int(b)\n",
    "print(a|b)"
   ]
  },
  {
   "cell_type": "code",
   "execution_count": 29,
   "metadata": {},
   "outputs": [
    {
     "name": "stdout",
     "output_type": "stream",
     "text": [
      "3 5\n",
      "6\n"
     ]
    }
   ],
   "source": [
    "#62. 두 정수를 비트단위(bitwise)로 xor 계산을 수행한 결과를 10진수로 출력한다.\n",
    "a, b = input().split()\n",
    "a = int(a); b = int(b)\n",
    "print(a^b)"
   ]
  },
  {
   "cell_type": "code",
   "execution_count": 30,
   "metadata": {},
   "outputs": [
    {
     "name": "stdout",
     "output_type": "stream",
     "text": [
      "123 456\n",
      "456\n"
     ]
    }
   ],
   "source": [
    "#63. 입력된 두 정수(a, b) 중 큰 값을 출력하는 프로그램을 작성해보자. 단, 3항 연산을 사용한ek\n",
    "a, b = input().split()\n",
    "a = int(a); b= int(b)\n",
    "print(a if (a>b) else b)"
   ]
  },
  {
   "cell_type": "code",
   "execution_count": 31,
   "metadata": {},
   "outputs": [
    {
     "name": "stdout",
     "output_type": "stream",
     "text": [
      "3 -1 5\n",
      "-1\n"
     ]
    }
   ],
   "source": [
    "#64. 입력된 세 정수 a, b, c 중 가장 작은 값을 출력하는 프로그램을 작성해보자.단, 3항 연산을 사용한다.\n",
    "a, b, c = input().split()\n",
    "a = int(a); b = int(b); c= int(c)\n",
    "print((a if (a<b) else b) if ((a if (a<b) else b)<c) else c)"
   ]
  },
  {
   "cell_type": "code",
   "execution_count": 32,
   "metadata": {},
   "outputs": [
    {
     "name": "stdout",
     "output_type": "stream",
     "text": [
      "1 2 4\n",
      "2\n",
      "4\n"
     ]
    }
   ],
   "source": [
    "#65. 3개의 정수(a, b, c)가 입력되었을 때, 짝수만 출력해보자.\n",
    "a, b,c = input().split()\n",
    "a = int(a); b= int(b); c = int(c)\n",
    "if a%2==0:\n",
    "    print(a)\n",
    "if b%2 ==0:\n",
    "    print(b)\n",
    "if c%2 ==0:\n",
    "    print(c)"
   ]
  },
  {
   "cell_type": "code",
   "execution_count": 33,
   "metadata": {},
   "outputs": [
    {
     "name": "stdout",
     "output_type": "stream",
     "text": [
      "1 2 8\n",
      "odd\n",
      "even\n",
      "even\n"
     ]
    }
   ],
   "source": [
    "#66. 3개의 정수(a, b, c)가 입력되었을 때, 짝(even)/홀(odd)을 출력해보자.\n",
    "a, b,c = input().split()\n",
    "a = int(a); b= int(b); c = int(c)\n",
    "if a%2 ==0:\n",
    "    print('even')\n",
    "else:\n",
    "    print('odd')\n",
    "if b%2 ==0:\n",
    "    print('even')\n",
    "else:\n",
    "    print('odd')\n",
    "if c%2 ==0:\n",
    "    print('even')\n",
    "else:\n",
    "    print('odd')"
   ]
  },
  {
   "cell_type": "code",
   "execution_count": 35,
   "metadata": {},
   "outputs": [
    {
     "name": "stdout",
     "output_type": "stream",
     "text": [
      "-2147483648\n",
      "A\n"
     ]
    }
   ],
   "source": [
    "#67. 0이 아닌 정수 1개가 입력되었을 때, 음(-)/양(+)과 짝(even)/홀(odd)을 구분해 분류해보자.\n",
    "# 음수이면서 짝수이면, A\n",
    "# 음수이면서 홀수이면, B\n",
    "# 양수이면서 짝수이면, C\n",
    "# 양수이면서 홀수이면, D\n",
    "a = int(input())\n",
    "if a < 0:\n",
    "    if a%2 ==0:\n",
    "        print(\"A\")\n",
    "    else:\n",
    "        print(\"B\")\n",
    "elif a>0:\n",
    "    if a%2 ==0:\n",
    "        print(\"C\")\n",
    "    else:\n",
    "        print(\"D\")"
   ]
  },
  {
   "cell_type": "code",
   "execution_count": 1,
   "metadata": {},
   "outputs": [
    {
     "name": "stdout",
     "output_type": "stream",
     "text": [
      "73\n",
      "B\n"
     ]
    }
   ],
   "source": [
    "#68. 점수(정수, 0 ~ 100)를 입력받아 평가를 출력해보자.\n",
    "\n",
    "# 평가 기준\n",
    "# 90 ~ 100 : A\n",
    "# 70 ~   89 : B\n",
    "# 40 ~   69 : C\n",
    "# 0 ~   39 : D\n",
    "\n",
    "score = int(input())\n",
    "if score >=90:\n",
    "    print(\"A\")\n",
    "elif score>=70:\n",
    "    print(\"B\")\n",
    "elif score>=40:\n",
    "    print(\"C\")\n",
    "else:\n",
    "    print(\"D\")"
   ]
  },
  {
   "cell_type": "code",
   "execution_count": 2,
   "metadata": {},
   "outputs": [
    {
     "name": "stdout",
     "output_type": "stream",
     "text": [
      "A\n",
      "best!!!\n"
     ]
    }
   ],
   "source": [
    "#69. 평가를 문자(A, B, C, D, ...)로 입력받아 내용을 다르게 출력해보자.\n",
    "# A : best!!!\n",
    "# B : good!!\n",
    "# C : run!\n",
    "# D : slowly~\n",
    "# 나머지 문자들 : what?\n",
    "\n",
    "a = str(input())\n",
    "if a == \"A\":\n",
    "    print(\"best!!!\")\n",
    "elif a == \"B\":\n",
    "    print(\"good!!\")\n",
    "elif a==\"C\":\n",
    "    print(\"run!\")\n",
    "elif a ==\"D\":\n",
    "    print(\"slowly~\")\n",
    "else:\n",
    "    print(\"what?\")"
   ]
  },
  {
   "cell_type": "code",
   "execution_count": 4,
   "metadata": {},
   "outputs": [
    {
     "name": "stdout",
     "output_type": "stream",
     "text": [
      "12\n",
      "winter\n"
     ]
    }
   ],
   "source": [
    "# #70. 월이 입력될 때 계절 이름이 출력되도록 해보자.\n",
    "\n",
    "# 12, 1, 2 : winter\n",
    "#   3, 4, 5 : spring\n",
    "#   6, 7, 8 : summer\n",
    "#   9, 10, 11 : fall\n",
    "a = int(input())\n",
    "if a<=5 and a>2:\n",
    "    print('spring')\n",
    "elif a<=8:\n",
    "    print('summer')\n",
    "elif a<=11:\n",
    "    print('fall')\n",
    "else:\n",
    "    print('winter')"
   ]
  }
 ],
 "metadata": {
  "kernelspec": {
   "display_name": "Python 3",
   "language": "python",
   "name": "python3"
  },
  "language_info": {
   "codemirror_mode": {
    "name": "ipython",
    "version": 3
   },
   "file_extension": ".py",
   "mimetype": "text/x-python",
   "name": "python",
   "nbconvert_exporter": "python",
   "pygments_lexer": "ipython3",
   "version": "3.7.6"
  }
 },
 "nbformat": 4,
 "nbformat_minor": 4
}
